{
  "nbformat": 4,
  "nbformat_minor": 0,
  "metadata": {
    "colab": {
      "name": "ola-loconly.ipynb",
      "version": "0.3.2",
      "provenance": [],
      "collapsed_sections": [],
      "machine_shape": "hm"
    },
    "kernelspec": {
      "name": "python3",
      "display_name": "Python 3"
    }
  },
  "cells": [
    {
      "cell_type": "code",
      "metadata": {
        "id": "_zbqm-yeQ6wM",
        "colab_type": "code",
        "colab": {}
      },
      "source": [
        "import pandas as pd"
      ],
      "execution_count": 0,
      "outputs": []
    },
    {
      "cell_type": "markdown",
      "metadata": {
        "id": "VzO3Q-A1SLen",
        "colab_type": "text"
      },
      "source": [
        "## Code to read csv file into colaboratory\n"
      ]
    },
    {
      "cell_type": "code",
      "metadata": {
        "id": "Pmfg1GbYROVf",
        "colab_type": "code",
        "colab": {}
      },
      "source": [
        "# Code to read csv file into Colaboratory:\n",
        "!pip install -U -q PyDrive\n",
        "from pydrive.auth import GoogleAuth\n",
        "from pydrive.drive import GoogleDrive\n",
        "from google.colab import auth\n",
        "from oauth2client.client import GoogleCredentials\n",
        "# Authenticate and create the PyDrive client.\n",
        "auth.authenticate_user()\n",
        "gauth = GoogleAuth()\n",
        "gauth.credentials = GoogleCredentials.get_application_default()\n",
        "drive = GoogleDrive(gauth)"
      ],
      "execution_count": 0,
      "outputs": []
    },
    {
      "cell_type": "code",
      "metadata": {
        "id": "RT5clmPIWZej",
        "colab_type": "code",
        "colab": {}
      },
      "source": [
        "id='1qmoWVr61kxpKXnF2PzE1LJzjSmVMx-fQ'"
      ],
      "execution_count": 0,
      "outputs": []
    },
    {
      "cell_type": "markdown",
      "metadata": {
        "id": "9soJk-qQSotb",
        "colab_type": "text"
      },
      "source": [
        "## Load dataset in df variable using pandas library"
      ]
    },
    {
      "cell_type": "code",
      "metadata": {
        "id": "SHppa7JUXEbw",
        "colab_type": "code",
        "outputId": "c7996f72-2f87-44d0-8e4c-55dbb2ac5c84",
        "colab": {
          "base_uri": "https://localhost:8080/",
          "height": 74
        }
      },
      "source": [
        "downloaded = drive.CreateFile({'id':id}) \n",
        "downloaded.GetContentFile('train.csv')  \n",
        "df = pd.read_csv('train.csv')"
      ],
      "execution_count": 4,
      "outputs": [
        {
          "output_type": "stream",
          "text": [
            "/usr/local/lib/python3.6/dist-packages/IPython/core/interactiveshell.py:2718: DtypeWarning: Columns (1,4,10) have mixed types. Specify dtype option on import or set low_memory=False.\n",
            "  interactivity=interactivity, compiler=compiler, result=result)\n"
          ],
          "name": "stderr"
        }
      ]
    },
    {
      "cell_type": "code",
      "metadata": {
        "id": "9EsXPak4XJdS",
        "colab_type": "code",
        "outputId": "b14ca3d6-8f42-43cf-9e94-000d3e092f00",
        "colab": {
          "base_uri": "https://localhost:8080/",
          "height": 408
        }
      },
      "source": [
        "df.head()"
      ],
      "execution_count": 6,
      "outputs": [
        {
          "output_type": "execute_result",
          "data": {
            "text/html": [
              "<div>\n",
              "<style scoped>\n",
              "    .dataframe tbody tr th:only-of-type {\n",
              "        vertical-align: middle;\n",
              "    }\n",
              "\n",
              "    .dataframe tbody tr th {\n",
              "        vertical-align: top;\n",
              "    }\n",
              "\n",
              "    .dataframe thead th {\n",
              "        text-align: right;\n",
              "    }\n",
              "</style>\n",
              "<table border=\"1\" class=\"dataframe\">\n",
              "  <thead>\n",
              "    <tr style=\"text-align: right;\">\n",
              "      <th></th>\n",
              "      <th>ID</th>\n",
              "      <th>vendor+AF8-id</th>\n",
              "      <th>pickup+AF8-loc</th>\n",
              "      <th>drop+AF8-loc</th>\n",
              "      <th>driver+AF8-tip</th>\n",
              "      <th>mta+AF8-tax</th>\n",
              "      <th>distance</th>\n",
              "      <th>pickup+AF8-time</th>\n",
              "      <th>drop+AF8-time</th>\n",
              "      <th>num+AF8-passengers</th>\n",
              "      <th>toll+AF8-amount</th>\n",
              "      <th>payment+AF8-method</th>\n",
              "      <th>rate+AF8-code</th>\n",
              "      <th>stored+AF8-flag</th>\n",
              "      <th>extra+AF8-charges</th>\n",
              "      <th>improvement+AF8-charge</th>\n",
              "      <th>total+AF8-amount</th>\n",
              "    </tr>\n",
              "  </thead>\n",
              "  <tbody>\n",
              "    <tr>\n",
              "      <th>0</th>\n",
              "      <td>0</td>\n",
              "      <td>1</td>\n",
              "      <td>170.0</td>\n",
              "      <td>233.0</td>\n",
              "      <td>1.83</td>\n",
              "      <td>0.5</td>\n",
              "      <td>0.70</td>\n",
              "      <td>04/04/2017 05:59:43 PM</td>\n",
              "      <td>04/04/2017 06:05:04 PM</td>\n",
              "      <td>1.0</td>\n",
              "      <td>0</td>\n",
              "      <td>1.0</td>\n",
              "      <td>1.0</td>\n",
              "      <td>N</td>\n",
              "      <td>1</td>\n",
              "      <td>0.3</td>\n",
              "      <td>9.13</td>\n",
              "    </tr>\n",
              "    <tr>\n",
              "      <th>1</th>\n",
              "      <td>1</td>\n",
              "      <td>2</td>\n",
              "      <td>151.0</td>\n",
              "      <td>243.0</td>\n",
              "      <td>3.56</td>\n",
              "      <td>0.5</td>\n",
              "      <td>4.64</td>\n",
              "      <td>04/03/2017 07:03:34 PM</td>\n",
              "      <td>04/03/2017 07:20:04 PM</td>\n",
              "      <td>1.0</td>\n",
              "      <td>0</td>\n",
              "      <td>1.0</td>\n",
              "      <td>1.0</td>\n",
              "      <td>N</td>\n",
              "      <td>1</td>\n",
              "      <td>0.3</td>\n",
              "      <td>21.36</td>\n",
              "    </tr>\n",
              "    <tr>\n",
              "      <th>2</th>\n",
              "      <td>2</td>\n",
              "      <td>2</td>\n",
              "      <td>68.0</td>\n",
              "      <td>90.0</td>\n",
              "      <td>1.5</td>\n",
              "      <td>0.5</td>\n",
              "      <td>1.29</td>\n",
              "      <td>04/03/2017 03:06:13 PM</td>\n",
              "      <td>04/03/2017 03:12:30 PM</td>\n",
              "      <td>2.0</td>\n",
              "      <td>0</td>\n",
              "      <td>1.0</td>\n",
              "      <td>1.0</td>\n",
              "      <td>N</td>\n",
              "      <td>0</td>\n",
              "      <td>0.3</td>\n",
              "      <td>8.8</td>\n",
              "    </tr>\n",
              "    <tr>\n",
              "      <th>3</th>\n",
              "      <td>3</td>\n",
              "      <td>2</td>\n",
              "      <td>142.0</td>\n",
              "      <td>234.0</td>\n",
              "      <td>1.5</td>\n",
              "      <td>0.5</td>\n",
              "      <td>2.74</td>\n",
              "      <td>04/04/2017 08:10:52 AM</td>\n",
              "      <td>04/04/2017 08:27:00 AM</td>\n",
              "      <td>1.0</td>\n",
              "      <td>0</td>\n",
              "      <td>1.0</td>\n",
              "      <td>1.0</td>\n",
              "      <td>N</td>\n",
              "      <td>0</td>\n",
              "      <td>0.3</td>\n",
              "      <td>14.8</td>\n",
              "    </tr>\n",
              "    <tr>\n",
              "      <th>4</th>\n",
              "      <td>4</td>\n",
              "      <td>2</td>\n",
              "      <td>238.0</td>\n",
              "      <td>238.0</td>\n",
              "      <td>0</td>\n",
              "      <td>0.5</td>\n",
              "      <td>0.45</td>\n",
              "      <td>04/05/2017 02:02:59 PM</td>\n",
              "      <td>04/05/2017 02:05:41 PM</td>\n",
              "      <td>6.0</td>\n",
              "      <td>0</td>\n",
              "      <td>2.0</td>\n",
              "      <td>1.0</td>\n",
              "      <td>N</td>\n",
              "      <td>0</td>\n",
              "      <td>0.3</td>\n",
              "      <td>4.8</td>\n",
              "    </tr>\n",
              "  </tbody>\n",
              "</table>\n",
              "</div>"
            ],
            "text/plain": [
              "   ID vendor+AF8-id  ...  improvement+AF8-charge  total+AF8-amount\n",
              "0   0             1  ...                     0.3              9.13\n",
              "1   1             2  ...                     0.3             21.36\n",
              "2   2             2  ...                     0.3               8.8\n",
              "3   3             2  ...                     0.3              14.8\n",
              "4   4             2  ...                     0.3               4.8\n",
              "\n",
              "[5 rows x 17 columns]"
            ]
          },
          "metadata": {
            "tags": []
          },
          "execution_count": 6
        }
      ]
    },
    {
      "cell_type": "code",
      "metadata": {
        "id": "RI2cqI5YSz2p",
        "colab_type": "code",
        "outputId": "3b384646-68ae-41d8-bf74-ebcfc63bf353",
        "colab": {
          "base_uri": "https://localhost:8080/",
          "height": 126
        }
      },
      "source": [
        "df.columns"
      ],
      "execution_count": 7,
      "outputs": [
        {
          "output_type": "execute_result",
          "data": {
            "text/plain": [
              "Index(['ID', 'vendor+AF8-id', 'pickup+AF8-loc', 'drop+AF8-loc',\n",
              "       'driver+AF8-tip', 'mta+AF8-tax', 'distance', 'pickup+AF8-time',\n",
              "       'drop+AF8-time', 'num+AF8-passengers', 'toll+AF8-amount',\n",
              "       'payment+AF8-method', 'rate+AF8-code', 'stored+AF8-flag',\n",
              "       'extra+AF8-charges', 'improvement+AF8-charge', 'total+AF8-amount'],\n",
              "      dtype='object')"
            ]
          },
          "metadata": {
            "tags": []
          },
          "execution_count": 7
        }
      ]
    },
    {
      "cell_type": "markdown",
      "metadata": {
        "id": "PIbRvy2HS5U_",
        "colab_type": "text"
      },
      "source": [
        "# Info will help us to determine the data type of different columns, total number of features, total number of rows in our dataset\n"
      ]
    },
    {
      "cell_type": "code",
      "metadata": {
        "id": "Wy8cV9LfS8sJ",
        "colab_type": "code",
        "outputId": "cc32bcfe-a1ff-42e5-efc9-ce677e629a92",
        "colab": {
          "base_uri": "https://localhost:8080/",
          "height": 417
        }
      },
      "source": [
        "df.info()"
      ],
      "execution_count": 8,
      "outputs": [
        {
          "output_type": "stream",
          "text": [
            "<class 'pandas.core.frame.DataFrame'>\n",
            "RangeIndex: 1048575 entries, 0 to 1048574\n",
            "Data columns (total 17 columns):\n",
            "ID                        1048575 non-null int64\n",
            "vendor+AF8-id             1048575 non-null object\n",
            "pickup+AF8-loc            1048574 non-null float64\n",
            "drop+AF8-loc              1048574 non-null float64\n",
            "driver+AF8-tip            1048573 non-null object\n",
            "mta+AF8-tax               1048574 non-null object\n",
            "distance                  1048574 non-null float64\n",
            "pickup+AF8-time           1048574 non-null object\n",
            "drop+AF8-time             1048574 non-null object\n",
            "num+AF8-passengers        1048574 non-null float64\n",
            "toll+AF8-amount           1048573 non-null object\n",
            "payment+AF8-method        1048574 non-null float64\n",
            "rate+AF8-code             1048574 non-null float64\n",
            "stored+AF8-flag           1048574 non-null object\n",
            "extra+AF8-charges         1048574 non-null object\n",
            "improvement+AF8-charge    1048573 non-null object\n",
            "total+AF8-amount          1048573 non-null object\n",
            "dtypes: float64(6), int64(1), object(10)\n",
            "memory usage: 136.0+ MB\n"
          ],
          "name": "stdout"
        }
      ]
    },
    {
      "cell_type": "markdown",
      "metadata": {
        "id": "FdGK1SQ6Usg7",
        "colab_type": "text"
      },
      "source": [
        "# describe will help us to determine about the scaling and range of our dataset"
      ]
    },
    {
      "cell_type": "code",
      "metadata": {
        "id": "WCeK7WdfVGVj",
        "colab_type": "code",
        "outputId": "b4407590-6367-42d7-9fac-fc88ccc1755b",
        "colab": {
          "base_uri": "https://localhost:8080/",
          "height": 288
        }
      },
      "source": [
        "df.describe()"
      ],
      "execution_count": 9,
      "outputs": [
        {
          "output_type": "execute_result",
          "data": {
            "text/html": [
              "<div>\n",
              "<style scoped>\n",
              "    .dataframe tbody tr th:only-of-type {\n",
              "        vertical-align: middle;\n",
              "    }\n",
              "\n",
              "    .dataframe tbody tr th {\n",
              "        vertical-align: top;\n",
              "    }\n",
              "\n",
              "    .dataframe thead th {\n",
              "        text-align: right;\n",
              "    }\n",
              "</style>\n",
              "<table border=\"1\" class=\"dataframe\">\n",
              "  <thead>\n",
              "    <tr style=\"text-align: right;\">\n",
              "      <th></th>\n",
              "      <th>ID</th>\n",
              "      <th>pickup+AF8-loc</th>\n",
              "      <th>drop+AF8-loc</th>\n",
              "      <th>distance</th>\n",
              "      <th>num+AF8-passengers</th>\n",
              "      <th>payment+AF8-method</th>\n",
              "      <th>rate+AF8-code</th>\n",
              "    </tr>\n",
              "  </thead>\n",
              "  <tbody>\n",
              "    <tr>\n",
              "      <th>count</th>\n",
              "      <td>1.048575e+06</td>\n",
              "      <td>1.048574e+06</td>\n",
              "      <td>1.048574e+06</td>\n",
              "      <td>1.048574e+06</td>\n",
              "      <td>1.048574e+06</td>\n",
              "      <td>1.048574e+06</td>\n",
              "      <td>1.048574e+06</td>\n",
              "    </tr>\n",
              "    <tr>\n",
              "      <th>mean</th>\n",
              "      <td>5.242870e+05</td>\n",
              "      <td>1.648085e+02</td>\n",
              "      <td>1.626675e+02</td>\n",
              "      <td>2.859832e+00</td>\n",
              "      <td>1.590696e+00</td>\n",
              "      <td>1.317943e+00</td>\n",
              "      <td>1.043368e+00</td>\n",
              "    </tr>\n",
              "    <tr>\n",
              "      <th>std</th>\n",
              "      <td>3.026977e+05</td>\n",
              "      <td>6.579282e+01</td>\n",
              "      <td>6.953073e+01</td>\n",
              "      <td>3.709541e+00</td>\n",
              "      <td>1.253700e+00</td>\n",
              "      <td>4.853266e-01</td>\n",
              "      <td>5.621114e-01</td>\n",
              "    </tr>\n",
              "    <tr>\n",
              "      <th>min</th>\n",
              "      <td>0.000000e+00</td>\n",
              "      <td>1.000000e+00</td>\n",
              "      <td>1.000000e+00</td>\n",
              "      <td>0.000000e+00</td>\n",
              "      <td>0.000000e+00</td>\n",
              "      <td>1.000000e+00</td>\n",
              "      <td>1.000000e+00</td>\n",
              "    </tr>\n",
              "    <tr>\n",
              "      <th>25%</th>\n",
              "      <td>2.621435e+05</td>\n",
              "      <td>1.250000e+02</td>\n",
              "      <td>1.130000e+02</td>\n",
              "      <td>9.300000e-01</td>\n",
              "      <td>1.000000e+00</td>\n",
              "      <td>1.000000e+00</td>\n",
              "      <td>1.000000e+00</td>\n",
              "    </tr>\n",
              "    <tr>\n",
              "      <th>50%</th>\n",
              "      <td>5.242870e+05</td>\n",
              "      <td>1.620000e+02</td>\n",
              "      <td>1.620000e+02</td>\n",
              "      <td>1.600000e+00</td>\n",
              "      <td>1.000000e+00</td>\n",
              "      <td>1.000000e+00</td>\n",
              "      <td>1.000000e+00</td>\n",
              "    </tr>\n",
              "    <tr>\n",
              "      <th>75%</th>\n",
              "      <td>7.864305e+05</td>\n",
              "      <td>2.330000e+02</td>\n",
              "      <td>2.330000e+02</td>\n",
              "      <td>2.900000e+00</td>\n",
              "      <td>2.000000e+00</td>\n",
              "      <td>2.000000e+00</td>\n",
              "      <td>1.000000e+00</td>\n",
              "    </tr>\n",
              "    <tr>\n",
              "      <th>max</th>\n",
              "      <td>1.048574e+06</td>\n",
              "      <td>2.650000e+02</td>\n",
              "      <td>2.650000e+02</td>\n",
              "      <td>1.138000e+02</td>\n",
              "      <td>9.000000e+00</td>\n",
              "      <td>4.000000e+00</td>\n",
              "      <td>9.900000e+01</td>\n",
              "    </tr>\n",
              "  </tbody>\n",
              "</table>\n",
              "</div>"
            ],
            "text/plain": [
              "                 ID  pickup+AF8-loc  ...  payment+AF8-method  rate+AF8-code\n",
              "count  1.048575e+06    1.048574e+06  ...        1.048574e+06   1.048574e+06\n",
              "mean   5.242870e+05    1.648085e+02  ...        1.317943e+00   1.043368e+00\n",
              "std    3.026977e+05    6.579282e+01  ...        4.853266e-01   5.621114e-01\n",
              "min    0.000000e+00    1.000000e+00  ...        1.000000e+00   1.000000e+00\n",
              "25%    2.621435e+05    1.250000e+02  ...        1.000000e+00   1.000000e+00\n",
              "50%    5.242870e+05    1.620000e+02  ...        1.000000e+00   1.000000e+00\n",
              "75%    7.864305e+05    2.330000e+02  ...        2.000000e+00   1.000000e+00\n",
              "max    1.048574e+06    2.650000e+02  ...        4.000000e+00   9.900000e+01\n",
              "\n",
              "[8 rows x 7 columns]"
            ]
          },
          "metadata": {
            "tags": []
          },
          "execution_count": 9
        }
      ]
    },
    {
      "cell_type": "markdown",
      "metadata": {
        "id": "4693hM6cVak-",
        "colab_type": "text"
      },
      "source": [
        "# Count of null values"
      ]
    },
    {
      "cell_type": "code",
      "metadata": {
        "id": "8d-Pn9lRVc86",
        "colab_type": "code",
        "outputId": "6c00c629-9a33-4ff9-8438-7d9ca5373ef0",
        "colab": {
          "base_uri": "https://localhost:8080/",
          "height": 345
        }
      },
      "source": [
        "df.isnull().sum()"
      ],
      "execution_count": 10,
      "outputs": [
        {
          "output_type": "execute_result",
          "data": {
            "text/plain": [
              "ID                        0\n",
              "vendor+AF8-id             0\n",
              "pickup+AF8-loc            1\n",
              "drop+AF8-loc              1\n",
              "driver+AF8-tip            2\n",
              "mta+AF8-tax               1\n",
              "distance                  1\n",
              "pickup+AF8-time           1\n",
              "drop+AF8-time             1\n",
              "num+AF8-passengers        1\n",
              "toll+AF8-amount           2\n",
              "payment+AF8-method        1\n",
              "rate+AF8-code             1\n",
              "stored+AF8-flag           1\n",
              "extra+AF8-charges         1\n",
              "improvement+AF8-charge    2\n",
              "total+AF8-amount          2\n",
              "dtype: int64"
            ]
          },
          "metadata": {
            "tags": []
          },
          "execution_count": 10
        }
      ]
    },
    {
      "cell_type": "code",
      "metadata": {
        "id": "Tlv7UOFDZhIy",
        "colab_type": "code",
        "colab": {}
      },
      "source": [
        "id1='1fv6Ip6v5maLWQFNjeNva46GhNUyvB_8F'"
      ],
      "execution_count": 0,
      "outputs": []
    },
    {
      "cell_type": "code",
      "metadata": {
        "id": "UrZTCLGAdXfL",
        "colab_type": "code",
        "colab": {}
      },
      "source": [
        "downloaded = drive.CreateFile({'id':id1}) \n",
        "downloaded.GetContentFile('test.csv')  \n",
        "test = pd.read_csv('test.csv')"
      ],
      "execution_count": 0,
      "outputs": []
    },
    {
      "cell_type": "markdown",
      "metadata": {
        "id": "20ohMNMIWFFS",
        "colab_type": "text"
      },
      "source": [
        "# Dropping few columns by simple reasoning"
      ]
    },
    {
      "cell_type": "markdown",
      "metadata": {
        "id": "uEVw3LotWLR0",
        "colab_type": "text"
      },
      "source": [
        " Clearly ID has no relation with the final output so we drop this column from both training and testing data\n",
        "\n",
        "\n"
      ]
    },
    {
      "cell_type": "code",
      "metadata": {
        "id": "Z0_WRE0rdbjg",
        "colab_type": "code",
        "colab": {}
      },
      "source": [
        "df=df.drop('ID',axis=1)"
      ],
      "execution_count": 0,
      "outputs": []
    },
    {
      "cell_type": "code",
      "metadata": {
        "id": "IoGZjpRKdqCz",
        "colab_type": "code",
        "colab": {}
      },
      "source": [
        "test=test.drop('ID',axis=1)"
      ],
      "execution_count": 0,
      "outputs": []
    },
    {
      "cell_type": "code",
      "metadata": {
        "id": "kdDHocGVkbYE",
        "colab_type": "code",
        "colab": {
          "base_uri": "https://localhost:8080/",
          "height": 35
        },
        "outputId": "b5161bc4-3003-4e24-a013-d1c17e3cc25e"
      },
      "source": [
        "df['pickup+AF8-time'].nunique()"
      ],
      "execution_count": 15,
      "outputs": [
        {
          "output_type": "execute_result",
          "data": {
            "text/plain": [
              "323725"
            ]
          },
          "metadata": {
            "tags": []
          },
          "execution_count": 15
        }
      ]
    },
    {
      "cell_type": "code",
      "metadata": {
        "id": "VA1Ckftrmhda",
        "colab_type": "code",
        "colab": {
          "base_uri": "https://localhost:8080/"
        },
        "outputId": "0b26cc99-14c5-4866-c383-9a9d12f99908"
      },
      "source": [
        "df['drop+AF8-time'].nunique()"
      ],
      "execution_count": 16,
      "outputs": [
        {
          "output_type": "execute_result",
          "data": {
            "text/plain": [
              "326900"
            ]
          },
          "metadata": {
            "tags": []
          },
          "execution_count": 16
        }
      ]
    },
    {
      "cell_type": "code",
      "metadata": {
        "id": "5DH5uN7PJPRK",
        "colab_type": "code",
        "colab": {}
      },
      "source": [
        "a=pd.to_datetime(df['pickup+AF8-time'])"
      ],
      "execution_count": 0,
      "outputs": []
    },
    {
      "cell_type": "code",
      "metadata": {
        "id": "LzQKlUjtJQAL",
        "colab_type": "code",
        "colab": {}
      },
      "source": [
        "b=pd.to_datetime(df['drop+AF8-time'])"
      ],
      "execution_count": 0,
      "outputs": []
    },
    {
      "cell_type": "code",
      "metadata": {
        "id": "Z-NqY9akLYRD",
        "colab_type": "code",
        "colab": {}
      },
      "source": [
        "c=[]"
      ],
      "execution_count": 0,
      "outputs": []
    },
    {
      "cell_type": "code",
      "metadata": {
        "id": "hm4IPvQfLdUY",
        "colab_type": "code",
        "colab": {}
      },
      "source": [
        "c1=[]"
      ],
      "execution_count": 0,
      "outputs": []
    },
    {
      "cell_type": "code",
      "metadata": {
        "id": "90SolPPFLdya",
        "colab_type": "code",
        "colab": {}
      },
      "source": [
        "for key,value in a.iteritems():\n",
        "  c.append((b[key]-a[key]).total_seconds()/3600)"
      ],
      "execution_count": 0,
      "outputs": []
    },
    {
      "cell_type": "code",
      "metadata": {
        "id": "LaA23G8tLeIO",
        "colab_type": "code",
        "colab": {}
      },
      "source": [
        "d=pd.DataFrame(c)"
      ],
      "execution_count": 0,
      "outputs": []
    },
    {
      "cell_type": "code",
      "metadata": {
        "id": "pGTHKAsxL5Mj",
        "colab_type": "code",
        "colab": {
          "base_uri": "https://localhost:8080/",
          "height": 198
        },
        "outputId": "61131eb8-0c3b-41e2-ba9d-6bdd204672f5"
      },
      "source": [
        "d.head()"
      ],
      "execution_count": 15,
      "outputs": [
        {
          "output_type": "execute_result",
          "data": {
            "text/html": [
              "<div>\n",
              "<style scoped>\n",
              "    .dataframe tbody tr th:only-of-type {\n",
              "        vertical-align: middle;\n",
              "    }\n",
              "\n",
              "    .dataframe tbody tr th {\n",
              "        vertical-align: top;\n",
              "    }\n",
              "\n",
              "    .dataframe thead th {\n",
              "        text-align: right;\n",
              "    }\n",
              "</style>\n",
              "<table border=\"1\" class=\"dataframe\">\n",
              "  <thead>\n",
              "    <tr style=\"text-align: right;\">\n",
              "      <th></th>\n",
              "      <th>0</th>\n",
              "    </tr>\n",
              "  </thead>\n",
              "  <tbody>\n",
              "    <tr>\n",
              "      <th>0</th>\n",
              "      <td>0.089167</td>\n",
              "    </tr>\n",
              "    <tr>\n",
              "      <th>1</th>\n",
              "      <td>0.275000</td>\n",
              "    </tr>\n",
              "    <tr>\n",
              "      <th>2</th>\n",
              "      <td>0.104722</td>\n",
              "    </tr>\n",
              "    <tr>\n",
              "      <th>3</th>\n",
              "      <td>0.268889</td>\n",
              "    </tr>\n",
              "    <tr>\n",
              "      <th>4</th>\n",
              "      <td>0.045000</td>\n",
              "    </tr>\n",
              "  </tbody>\n",
              "</table>\n",
              "</div>"
            ],
            "text/plain": [
              "          0\n",
              "0  0.089167\n",
              "1  0.275000\n",
              "2  0.104722\n",
              "3  0.268889\n",
              "4  0.045000"
            ]
          },
          "metadata": {
            "tags": []
          },
          "execution_count": 15
        }
      ]
    },
    {
      "cell_type": "code",
      "metadata": {
        "id": "RA8tv8mfL9YZ",
        "colab_type": "code",
        "colab": {}
      },
      "source": [
        "df.insert(2,'time',d)"
      ],
      "execution_count": 0,
      "outputs": []
    },
    {
      "cell_type": "markdown",
      "metadata": {
        "id": "hr5wbSxlljmS",
        "colab_type": "text"
      },
      "source": [
        "Since count of unique values of above two columns is too large that it will cause final otput to be biased so we drop this column "
      ]
    },
    {
      "cell_type": "code",
      "metadata": {
        "id": "4hQR6B7nQcT5",
        "colab_type": "code",
        "colab": {}
      },
      "source": [
        "df=df.drop('pickup+AF8-time',axis=1)"
      ],
      "execution_count": 0,
      "outputs": []
    },
    {
      "cell_type": "code",
      "metadata": {
        "id": "DQjy3FHBQnW0",
        "colab_type": "code",
        "colab": {}
      },
      "source": [
        "df=df.drop('drop+AF8-time',axis=1)"
      ],
      "execution_count": 0,
      "outputs": []
    },
    {
      "cell_type": "code",
      "metadata": {
        "id": "DeEqNbvnMT0X",
        "colab_type": "code",
        "colab": {
          "base_uri": "https://localhost:8080/",
          "height": 381
        },
        "outputId": "58fd2a15-f708-4dce-af6b-3144488f6ff6"
      },
      "source": [
        "test.info()"
      ],
      "execution_count": 19,
      "outputs": [
        {
          "output_type": "stream",
          "text": [
            "<class 'pandas.core.frame.DataFrame'>\n",
            "RangeIndex: 154235 entries, 0 to 154234\n",
            "Data columns (total 15 columns):\n",
            "vendor_id             154235 non-null int64\n",
            "pickup_loc            154235 non-null float64\n",
            "drop_loc              154235 non-null float64\n",
            "driver_tip            154235 non-null float64\n",
            "mta_tax               154235 non-null float64\n",
            "distance              154235 non-null float64\n",
            "pickup_time           154235 non-null object\n",
            "drop_time             154235 non-null object\n",
            "num_passengers        154235 non-null float64\n",
            "toll_amount           154235 non-null float64\n",
            "payment_method        154235 non-null float64\n",
            "rate_code             154235 non-null float64\n",
            "stored_flag           154235 non-null object\n",
            "extra_charges         154235 non-null float64\n",
            "improvement_charge    154235 non-null float64\n",
            "dtypes: float64(11), int64(1), object(3)\n",
            "memory usage: 17.7+ MB\n"
          ],
          "name": "stdout"
        }
      ]
    },
    {
      "cell_type": "code",
      "metadata": {
        "id": "otQ6jIT2MWT3",
        "colab_type": "code",
        "colab": {}
      },
      "source": [
        "a=pd.to_datetime(test['pickup_time'])"
      ],
      "execution_count": 0,
      "outputs": []
    },
    {
      "cell_type": "code",
      "metadata": {
        "id": "gh8t8gu6MWpq",
        "colab_type": "code",
        "colab": {}
      },
      "source": [
        "b=pd.to_datetime(test['drop_time'])"
      ],
      "execution_count": 0,
      "outputs": []
    },
    {
      "cell_type": "code",
      "metadata": {
        "id": "ApOuUowHMXB9",
        "colab_type": "code",
        "colab": {}
      },
      "source": [
        "c=[]"
      ],
      "execution_count": 0,
      "outputs": []
    },
    {
      "cell_type": "code",
      "metadata": {
        "id": "Q6dsuzrwMXVT",
        "colab_type": "code",
        "colab": {}
      },
      "source": [
        "c1=[]"
      ],
      "execution_count": 0,
      "outputs": []
    },
    {
      "cell_type": "code",
      "metadata": {
        "id": "slyfKcXfMXpm",
        "colab_type": "code",
        "colab": {}
      },
      "source": [
        "for key,value in a.iteritems():\n",
        "  c1.append((b[key]-a[key]).total_seconds()/3600)"
      ],
      "execution_count": 0,
      "outputs": []
    },
    {
      "cell_type": "code",
      "metadata": {
        "id": "woRjpnyONm7e",
        "colab_type": "code",
        "colab": {}
      },
      "source": [
        "d1=pd.DataFrame(c1)"
      ],
      "execution_count": 0,
      "outputs": []
    },
    {
      "cell_type": "code",
      "metadata": {
        "id": "KNXNNPkrN8OK",
        "colab_type": "code",
        "colab": {}
      },
      "source": [
        "test.insert(2,'time',d1)"
      ],
      "execution_count": 0,
      "outputs": []
    },
    {
      "cell_type": "code",
      "metadata": {
        "id": "_h4HnrabQnxC",
        "colab_type": "code",
        "colab": {}
      },
      "source": [
        "test=test.drop('pickup_time',axis=1)"
      ],
      "execution_count": 0,
      "outputs": []
    },
    {
      "cell_type": "code",
      "metadata": {
        "id": "R7QwwyK1Q2em",
        "colab_type": "code",
        "colab": {}
      },
      "source": [
        "test=test.drop('drop_time',axis=1)"
      ],
      "execution_count": 0,
      "outputs": []
    },
    {
      "cell_type": "code",
      "metadata": {
        "id": "_mC-No5wODdx",
        "colab_type": "code",
        "colab": {
          "base_uri": "https://localhost:8080/",
          "height": 363
        },
        "outputId": "b19ea6b2-7907-4e7e-c58b-92f4f389c91a"
      },
      "source": [
        "test.info()"
      ],
      "execution_count": 29,
      "outputs": [
        {
          "output_type": "stream",
          "text": [
            "<class 'pandas.core.frame.DataFrame'>\n",
            "RangeIndex: 154235 entries, 0 to 154234\n",
            "Data columns (total 14 columns):\n",
            "vendor_id             154235 non-null int64\n",
            "pickup_loc            154235 non-null float64\n",
            "time                  154235 non-null float64\n",
            "drop_loc              154235 non-null float64\n",
            "driver_tip            154235 non-null float64\n",
            "mta_tax               154235 non-null float64\n",
            "distance              154235 non-null float64\n",
            "num_passengers        154235 non-null float64\n",
            "toll_amount           154235 non-null float64\n",
            "payment_method        154235 non-null float64\n",
            "rate_code             154235 non-null float64\n",
            "stored_flag           154235 non-null object\n",
            "extra_charges         154235 non-null float64\n",
            "improvement_charge    154235 non-null float64\n",
            "dtypes: float64(12), int64(1), object(1)\n",
            "memory usage: 16.5+ MB\n"
          ],
          "name": "stdout"
        }
      ]
    },
    {
      "cell_type": "code",
      "metadata": {
        "id": "TSpMtJmzl5bL",
        "colab_type": "code",
        "colab": {
          "base_uri": "https://localhost:8080/",
          "height": 381
        },
        "outputId": "83feb477-646b-4453-a526-2e49ce7b3abf"
      },
      "source": [
        "df.info()"
      ],
      "execution_count": 30,
      "outputs": [
        {
          "output_type": "stream",
          "text": [
            "<class 'pandas.core.frame.DataFrame'>\n",
            "RangeIndex: 1048575 entries, 0 to 1048574\n",
            "Data columns (total 15 columns):\n",
            "vendor+AF8-id             1048575 non-null object\n",
            "pickup+AF8-loc            1048574 non-null float64\n",
            "time                      1048574 non-null float64\n",
            "drop+AF8-loc              1048574 non-null float64\n",
            "driver+AF8-tip            1048573 non-null object\n",
            "mta+AF8-tax               1048574 non-null object\n",
            "distance                  1048574 non-null float64\n",
            "num+AF8-passengers        1048574 non-null float64\n",
            "toll+AF8-amount           1048573 non-null object\n",
            "payment+AF8-method        1048574 non-null float64\n",
            "rate+AF8-code             1048574 non-null float64\n",
            "stored+AF8-flag           1048574 non-null object\n",
            "extra+AF8-charges         1048574 non-null object\n",
            "improvement+AF8-charge    1048573 non-null object\n",
            "total+AF8-amount          1048573 non-null object\n",
            "dtypes: float64(7), object(8)\n",
            "memory usage: 120.0+ MB\n"
          ],
          "name": "stdout"
        }
      ]
    },
    {
      "cell_type": "code",
      "metadata": {
        "id": "U5YKGHf4mDR1",
        "colab_type": "code",
        "colab": {}
      },
      "source": [
        "loc=df['drop+AF8-loc']-df['pickup+AF8-loc']"
      ],
      "execution_count": 0,
      "outputs": []
    },
    {
      "cell_type": "code",
      "metadata": {
        "id": "RHVCmwdXmWh8",
        "colab_type": "code",
        "colab": {
          "base_uri": "https://localhost:8080/",
          "height": 126
        },
        "outputId": "44becbf9-1ebf-48ab-91fc-87cc7261b6eb"
      },
      "source": [
        "loc.head()"
      ],
      "execution_count": 33,
      "outputs": [
        {
          "output_type": "execute_result",
          "data": {
            "text/plain": [
              "0    63.0\n",
              "1    92.0\n",
              "2    22.0\n",
              "3    92.0\n",
              "4     0.0\n",
              "dtype: float64"
            ]
          },
          "metadata": {
            "tags": []
          },
          "execution_count": 33
        }
      ]
    },
    {
      "cell_type": "code",
      "metadata": {
        "id": "Of5CbmijmcgL",
        "colab_type": "code",
        "colab": {}
      },
      "source": [
        "df.insert(2,'loc',loc)"
      ],
      "execution_count": 0,
      "outputs": []
    },
    {
      "cell_type": "code",
      "metadata": {
        "id": "SUlUvr1QmnY7",
        "colab_type": "code",
        "colab": {
          "base_uri": "https://localhost:8080/",
          "height": 370
        },
        "outputId": "b3f402a7-000f-4968-88e1-6addf1a85733"
      },
      "source": [
        "df.info()"
      ],
      "execution_count": 36,
      "outputs": [
        {
          "output_type": "stream",
          "text": [
            "<class 'pandas.core.frame.DataFrame'>\n",
            "RangeIndex: 1048575 entries, 0 to 1048574\n",
            "Data columns (total 16 columns):\n",
            "vendor+AF8-id             1048575 non-null object\n",
            "pickup+AF8-loc            1048574 non-null float64\n",
            "loc                       1048574 non-null float64\n",
            "time                      1048574 non-null float64\n",
            "drop+AF8-loc              1048574 non-null float64\n",
            "driver+AF8-tip            1048573 non-null object\n",
            "mta+AF8-tax               1048574 non-null object\n",
            "distance                  1048574 non-null float64\n",
            "num+AF8-passengers        1048574 non-null float64\n",
            "toll+AF8-amount           1048573 non-null object\n",
            "payment+AF8-method        1048574 non-null float64\n",
            "rate+AF8-code             1048574 non-null float64\n",
            "stored+AF8-flag           1048574 non-null object\n",
            "extra+AF8-charges         1048574 non-null object\n",
            "improvement+AF8-charge    1048573 non-null object\n",
            "total+AF8-amount          1048573 non-null object\n",
            "dtypes: float64(8), object(8)\n",
            "memory usage: 128.0+ MB\n"
          ],
          "name": "stdout"
        }
      ]
    },
    {
      "cell_type": "code",
      "metadata": {
        "id": "EEJlst_xmw_s",
        "colab_type": "code",
        "colab": {}
      },
      "source": [
        "df=df.drop('pickup+AF8-loc',axis=1)"
      ],
      "execution_count": 0,
      "outputs": []
    },
    {
      "cell_type": "code",
      "metadata": {
        "id": "JKD80cMEm4gs",
        "colab_type": "code",
        "colab": {}
      },
      "source": [
        "df=df.drop('drop+AF8-loc',axis=1)\n"
      ],
      "execution_count": 0,
      "outputs": []
    },
    {
      "cell_type": "code",
      "metadata": {
        "id": "ykPi6SZGoKMq",
        "colab_type": "code",
        "colab": {}
      },
      "source": [
        "l=test['drop_loc']-test['pickup_loc']"
      ],
      "execution_count": 0,
      "outputs": []
    },
    {
      "cell_type": "code",
      "metadata": {
        "id": "2xsuI8FxoKov",
        "colab_type": "code",
        "colab": {}
      },
      "source": [
        "test.insert(2,'loc',l)"
      ],
      "execution_count": 0,
      "outputs": []
    },
    {
      "cell_type": "code",
      "metadata": {
        "id": "ZV9ES4BAoLFC",
        "colab_type": "code",
        "colab": {}
      },
      "source": [
        "test=test.drop('pickup_loc',axis=1)"
      ],
      "execution_count": 0,
      "outputs": []
    },
    {
      "cell_type": "code",
      "metadata": {
        "id": "j9rMCrzYoxDN",
        "colab_type": "code",
        "colab": {}
      },
      "source": [
        "test=test.drop('drop_loc',axis=1)"
      ],
      "execution_count": 0,
      "outputs": []
    },
    {
      "cell_type": "markdown",
      "metadata": {
        "id": "rjLFOEFoXFaE",
        "colab_type": "text"
      },
      "source": [
        "### Since in training there are only very few rows with null values so we drop them"
      ]
    },
    {
      "cell_type": "code",
      "metadata": {
        "id": "ZbQ4vn6kdu83",
        "colab_type": "code",
        "colab": {}
      },
      "source": [
        "df=df.dropna()"
      ],
      "execution_count": 0,
      "outputs": []
    },
    {
      "cell_type": "code",
      "metadata": {
        "id": "AjTt559hd0ZF",
        "colab_type": "code",
        "outputId": "cdaf3e5c-773c-4df8-ac67-6f6839546d0c",
        "colab": {
          "base_uri": "https://localhost:8080/",
          "height": 336
        }
      },
      "source": [
        "df.info()"
      ],
      "execution_count": 41,
      "outputs": [
        {
          "output_type": "stream",
          "text": [
            "<class 'pandas.core.frame.DataFrame'>\n",
            "Int64Index: 1048573 entries, 0 to 1048574\n",
            "Data columns (total 14 columns):\n",
            "vendor+AF8-id             1048573 non-null object\n",
            "loc                       1048573 non-null float64\n",
            "time                      1048573 non-null float64\n",
            "driver+AF8-tip            1048573 non-null object\n",
            "mta+AF8-tax               1048573 non-null object\n",
            "distance                  1048573 non-null float64\n",
            "num+AF8-passengers        1048573 non-null float64\n",
            "toll+AF8-amount           1048573 non-null object\n",
            "payment+AF8-method        1048573 non-null float64\n",
            "rate+AF8-code             1048573 non-null float64\n",
            "stored+AF8-flag           1048573 non-null object\n",
            "extra+AF8-charges         1048573 non-null object\n",
            "improvement+AF8-charge    1048573 non-null object\n",
            "total+AF8-amount          1048573 non-null object\n",
            "dtypes: float64(6), object(8)\n",
            "memory usage: 120.0+ MB\n"
          ],
          "name": "stdout"
        }
      ]
    },
    {
      "cell_type": "code",
      "metadata": {
        "id": "2f8GmTfShgM8",
        "colab_type": "code",
        "outputId": "3b9b5149-5c16-40f0-abc3-00ef67c10c9e",
        "colab": {
          "base_uri": "https://localhost:8080/",
          "height": 336
        }
      },
      "source": [
        "test.info()"
      ],
      "execution_count": 42,
      "outputs": [
        {
          "output_type": "stream",
          "text": [
            "<class 'pandas.core.frame.DataFrame'>\n",
            "RangeIndex: 154235 entries, 0 to 154234\n",
            "Data columns (total 14 columns):\n",
            "vendor_id             154235 non-null int64\n",
            "pickup_loc            154235 non-null float64\n",
            "time                  154235 non-null float64\n",
            "drop_loc              154235 non-null float64\n",
            "driver_tip            154235 non-null float64\n",
            "mta_tax               154235 non-null float64\n",
            "distance              154235 non-null float64\n",
            "num_passengers        154235 non-null float64\n",
            "toll_amount           154235 non-null float64\n",
            "payment_method        154235 non-null float64\n",
            "rate_code             154235 non-null float64\n",
            "stored_flag           154235 non-null object\n",
            "extra_charges         154235 non-null float64\n",
            "improvement_charge    154235 non-null float64\n",
            "dtypes: float64(12), int64(1), object(1)\n",
            "memory usage: 16.5+ MB\n"
          ],
          "name": "stdout"
        }
      ]
    },
    {
      "cell_type": "markdown",
      "metadata": {
        "id": "fdrzisc7XXI7",
        "colab_type": "text"
      },
      "source": [
        "We found that many columns of train and test file differ in type so we will change their type "
      ]
    },
    {
      "cell_type": "markdown",
      "metadata": {
        "id": "bQ0aqEn5XnYX",
        "colab_type": "text"
      },
      "source": [
        "Also we found that some string is present along with float64 values in some columns of training data\n",
        "so below code is to find out such data points and eleminate the string portion from them"
      ]
    },
    {
      "cell_type": "code",
      "metadata": {
        "id": "IGQJxuv4hpMC",
        "colab_type": "code",
        "colab": {}
      },
      "source": [
        "xt=df"
      ],
      "execution_count": 0,
      "outputs": []
    },
    {
      "cell_type": "code",
      "metadata": {
        "id": "YgXHFFW5iKiL",
        "colab_type": "code",
        "colab": {}
      },
      "source": [
        "x=xt['total+AF8-amount'].astype(str)"
      ],
      "execution_count": 0,
      "outputs": []
    },
    {
      "cell_type": "code",
      "metadata": {
        "id": "y7lxWe05iOxD",
        "colab_type": "code",
        "colab": {}
      },
      "source": [
        "for key,value in x.iteritems():\n",
        "    if value.isdigit():\n",
        "        None\n",
        "    elif value.replace('.','',1).isdigit() and value.count('.')<2:\n",
        "        None\n",
        "    else:\n",
        "        y=value.split('-')\n",
        "        xt=xt.drop(key)"
      ],
      "execution_count": 0,
      "outputs": []
    },
    {
      "cell_type": "code",
      "metadata": {
        "id": "Ec0ZO5G6ihSG",
        "colab_type": "code",
        "colab": {}
      },
      "source": [
        "x=xt['improvement+AF8-charge'].astype(str)"
      ],
      "execution_count": 0,
      "outputs": []
    },
    {
      "cell_type": "code",
      "metadata": {
        "id": "0kunLK2UjQ9X",
        "colab_type": "code",
        "colab": {}
      },
      "source": [
        "for key,value in x.iteritems():\n",
        "    if value.isdigit():\n",
        "        None\n",
        "    elif value.replace('.','',1).isdigit() and value.count('.')<2:\n",
        "        None\n",
        "    else:\n",
        "        y=value.split('-')\n",
        "        xt=xt.drop(key)"
      ],
      "execution_count": 0,
      "outputs": []
    },
    {
      "cell_type": "code",
      "metadata": {
        "id": "OYfABtg8jUXk",
        "colab_type": "code",
        "colab": {}
      },
      "source": [
        "x=xt['extra+AF8-charges'].astype(str)"
      ],
      "execution_count": 0,
      "outputs": []
    },
    {
      "cell_type": "code",
      "metadata": {
        "id": "9V3MQ30ljlX-",
        "colab_type": "code",
        "colab": {}
      },
      "source": [
        "for key,value in x.iteritems():\n",
        "    if value.isdigit():\n",
        "        None\n",
        "    elif value.replace('.','',1).isdigit() and value.count('.')<2:\n",
        "        None\n",
        "    else:\n",
        "        y=value.split('-')\n",
        "        xt=xt.drop(key)"
      ],
      "execution_count": 0,
      "outputs": []
    },
    {
      "cell_type": "code",
      "metadata": {
        "id": "dH_fgOu3jpzm",
        "colab_type": "code",
        "colab": {}
      },
      "source": [
        "x=xt['toll+AF8-amount'].astype(str)"
      ],
      "execution_count": 0,
      "outputs": []
    },
    {
      "cell_type": "code",
      "metadata": {
        "id": "jFmKqxLEkrZX",
        "colab_type": "code",
        "colab": {}
      },
      "source": [
        "for key,value in x.iteritems():\n",
        "    if value.isdigit():\n",
        "        None\n",
        "    elif value.replace('.','',1).isdigit() and value.count('.')<2:\n",
        "        None\n",
        "    else:\n",
        "        y=value.split('-')\n",
        "        xt=xt.drop(key)"
      ],
      "execution_count": 0,
      "outputs": []
    },
    {
      "cell_type": "code",
      "metadata": {
        "id": "MsJ0t4l7kuYT",
        "colab_type": "code",
        "colab": {}
      },
      "source": [
        "x=xt['mta+AF8-tax'].astype(str)"
      ],
      "execution_count": 0,
      "outputs": []
    },
    {
      "cell_type": "code",
      "metadata": {
        "id": "FQqZTtSgk-wO",
        "colab_type": "code",
        "colab": {}
      },
      "source": [
        "for key,value in x.iteritems():\n",
        "    if value.isdigit():\n",
        "        None\n",
        "    elif value.replace('.','',1).isdigit() and value.count('.')<2:\n",
        "        None\n",
        "    else:\n",
        "        y=value.split('-')\n",
        "        xt=xt.drop(key)"
      ],
      "execution_count": 0,
      "outputs": []
    },
    {
      "cell_type": "code",
      "metadata": {
        "id": "yGyGeCailIVD",
        "colab_type": "code",
        "colab": {}
      },
      "source": [
        "x=xt['driver+AF8-tip'].astype(str)"
      ],
      "execution_count": 0,
      "outputs": []
    },
    {
      "cell_type": "code",
      "metadata": {
        "id": "Bcl3ZxeklVOa",
        "colab_type": "code",
        "colab": {}
      },
      "source": [
        "for key,value in x.iteritems():\n",
        "    if value.isdigit():\n",
        "        None\n",
        "    elif value.replace('.','',1).isdigit() and value.count('.')<2:\n",
        "        None\n",
        "    else:\n",
        "        y=value.split('-')\n",
        "        xt=xt.drop(key)"
      ],
      "execution_count": 0,
      "outputs": []
    },
    {
      "cell_type": "code",
      "metadata": {
        "id": "IQC9FrDfvL2p",
        "colab_type": "code",
        "colab": {}
      },
      "source": [
        "x=xt['vendor+AF8-id'].astype(str)"
      ],
      "execution_count": 0,
      "outputs": []
    },
    {
      "cell_type": "code",
      "metadata": {
        "id": "hy59MsU8vX0m",
        "colab_type": "code",
        "colab": {}
      },
      "source": [
        "for key,value in x.iteritems():\n",
        "    if value.isdigit():\n",
        "        None\n",
        "    elif value.replace('.','',1).isdigit() and value.count('.')<2:\n",
        "        None\n",
        "    else:\n",
        "        y=value.split('-')\n",
        "        xt=xt.drop(key)"
      ],
      "execution_count": 0,
      "outputs": []
    },
    {
      "cell_type": "code",
      "metadata": {
        "id": "3ULDCyjll2kj",
        "colab_type": "code",
        "outputId": "3bcf9abe-5368-4d8f-9f39-0d4d53cd5444",
        "colab": {
          "base_uri": "https://localhost:8080/",
          "height": 363
        }
      },
      "source": [
        "xt.info()"
      ],
      "execution_count": 58,
      "outputs": [
        {
          "output_type": "stream",
          "text": [
            "<class 'pandas.core.frame.DataFrame'>\n",
            "Int64Index: 1048052 entries, 0 to 1048574\n",
            "Data columns (total 14 columns):\n",
            "vendor+AF8-id             1048052 non-null object\n",
            "loc                       1048052 non-null float64\n",
            "time                      1048052 non-null float64\n",
            "driver+AF8-tip            1048052 non-null object\n",
            "mta+AF8-tax               1048052 non-null object\n",
            "distance                  1048052 non-null float64\n",
            "num+AF8-passengers        1048052 non-null float64\n",
            "toll+AF8-amount           1048052 non-null object\n",
            "payment+AF8-method        1048052 non-null float64\n",
            "rate+AF8-code             1048052 non-null float64\n",
            "stored+AF8-flag           1048052 non-null object\n",
            "extra+AF8-charges         1048052 non-null object\n",
            "improvement+AF8-charge    1048052 non-null object\n",
            "total+AF8-amount          1048052 non-null object\n",
            "dtypes: float64(6), object(8)\n",
            "memory usage: 119.9+ MB\n"
          ],
          "name": "stdout"
        }
      ]
    },
    {
      "cell_type": "code",
      "metadata": {
        "id": "KZWA6p5aviwP",
        "colab_type": "code",
        "outputId": "8f7a5a7f-6f38-4759-d0e7-3e0b76533fe7",
        "colab": {
          "base_uri": "https://localhost:8080/",
          "height": 319
        }
      },
      "source": [
        "test.info()"
      ],
      "execution_count": 65,
      "outputs": [
        {
          "output_type": "stream",
          "text": [
            "<class 'pandas.core.frame.DataFrame'>\n",
            "RangeIndex: 154235 entries, 0 to 154234\n",
            "Data columns (total 13 columns):\n",
            "vendor_id             154235 non-null int64\n",
            "loc                   154235 non-null float64\n",
            "time                  154235 non-null float64\n",
            "driver_tip            154235 non-null float64\n",
            "mta_tax               154235 non-null float64\n",
            "distance              154235 non-null float64\n",
            "num_passengers        154235 non-null float64\n",
            "toll_amount           154235 non-null float64\n",
            "payment_method        154235 non-null float64\n",
            "rate_code             154235 non-null float64\n",
            "stored_flag           154235 non-null object\n",
            "extra_charges         154235 non-null float64\n",
            "improvement_charge    154235 non-null float64\n",
            "dtypes: float64(11), int64(1), object(1)\n",
            "memory usage: 15.3+ MB\n"
          ],
          "name": "stdout"
        }
      ]
    },
    {
      "cell_type": "markdown",
      "metadata": {
        "id": "6z7OdSXlo-a-",
        "colab_type": "text"
      },
      "source": [
        "### Now change datatype of some columns of training data according to that of test file"
      ]
    },
    {
      "cell_type": "code",
      "metadata": {
        "id": "IZ8gBWuJVlm8",
        "colab_type": "code",
        "colab": {}
      },
      "source": [
        "xt['total+AF8-amount']=xt['total+AF8-amount'].apply(pd.to_numeric)"
      ],
      "execution_count": 0,
      "outputs": []
    },
    {
      "cell_type": "code",
      "metadata": {
        "id": "gVYxcTVuVl_Q",
        "colab_type": "code",
        "colab": {}
      },
      "source": [
        "xt['improvement+AF8-charge']=xt['improvement+AF8-charge'].apply(pd.to_numeric)"
      ],
      "execution_count": 0,
      "outputs": []
    },
    {
      "cell_type": "code",
      "metadata": {
        "id": "AXh8ig90WMko",
        "colab_type": "code",
        "colab": {}
      },
      "source": [
        "xt['extra+AF8-charges']=xt['extra+AF8-charges'].apply(pd.to_numeric)"
      ],
      "execution_count": 0,
      "outputs": []
    },
    {
      "cell_type": "code",
      "metadata": {
        "id": "-LaCpf5WWNwh",
        "colab_type": "code",
        "colab": {}
      },
      "source": [
        "xt['toll+AF8-amount']=xt['toll+AF8-amount'].apply(pd.to_numeric)"
      ],
      "execution_count": 0,
      "outputs": []
    },
    {
      "cell_type": "code",
      "metadata": {
        "id": "Cv-VuWxjWOry",
        "colab_type": "code",
        "colab": {}
      },
      "source": [
        "xt['mta+AF8-tax']=xt['mta+AF8-tax'].apply(pd.to_numeric)"
      ],
      "execution_count": 0,
      "outputs": []
    },
    {
      "cell_type": "code",
      "metadata": {
        "id": "k0qdXpj5WPcW",
        "colab_type": "code",
        "colab": {}
      },
      "source": [
        "xt['driver+AF8-tip']=xt['driver+AF8-tip'].apply(pd.to_numeric)"
      ],
      "execution_count": 0,
      "outputs": []
    },
    {
      "cell_type": "code",
      "metadata": {
        "id": "WTE4zAYWvqpQ",
        "colab_type": "code",
        "colab": {}
      },
      "source": [
        "xt['vendor+AF8-id']=xt['vendor+AF8-id'].apply(pd.to_numeric)"
      ],
      "execution_count": 0,
      "outputs": []
    },
    {
      "cell_type": "code",
      "metadata": {
        "id": "Cuyb89BzXAU5",
        "colab_type": "code",
        "outputId": "7b682eb9-95f6-4bab-eb12-ac0cfaf5a90e",
        "colab": {
          "base_uri": "https://localhost:8080/",
          "height": 354
        }
      },
      "source": [
        "xt.info()"
      ],
      "execution_count": 73,
      "outputs": [
        {
          "output_type": "stream",
          "text": [
            "<class 'pandas.core.frame.DataFrame'>\n",
            "Int64Index: 1048052 entries, 0 to 1048574\n",
            "Data columns (total 14 columns):\n",
            "vendor+AF8-id             1048052 non-null int64\n",
            "loc                       1048052 non-null float64\n",
            "time                      1048052 non-null float64\n",
            "driver+AF8-tip            1048052 non-null float64\n",
            "mta+AF8-tax               1048052 non-null float64\n",
            "distance                  1048052 non-null float64\n",
            "num+AF8-passengers        1048052 non-null float64\n",
            "toll+AF8-amount           1048052 non-null float64\n",
            "payment+AF8-method        1048052 non-null float64\n",
            "rate+AF8-code             1048052 non-null float64\n",
            "stored+AF8-flag           1048052 non-null object\n",
            "extra+AF8-charges         1048052 non-null float64\n",
            "improvement+AF8-charge    1048052 non-null float64\n",
            "total+AF8-amount          1048052 non-null float64\n",
            "dtypes: float64(12), int64(1), object(1)\n",
            "memory usage: 119.9+ MB\n"
          ],
          "name": "stdout"
        }
      ]
    },
    {
      "cell_type": "code",
      "metadata": {
        "id": "VdIar_WSzTyq",
        "colab_type": "code",
        "colab": {
          "base_uri": "https://localhost:8080/",
          "height": 336
        },
        "outputId": "b741b18a-80ab-459d-c1e8-d5b25a4065bc"
      },
      "source": [
        "test.info()"
      ],
      "execution_count": 114,
      "outputs": [
        {
          "output_type": "stream",
          "text": [
            "<class 'pandas.core.frame.DataFrame'>\n",
            "RangeIndex: 154235 entries, 0 to 154234\n",
            "Data columns (total 13 columns):\n",
            "vendor_id             154235 non-null int64\n",
            "loc                   154235 non-null float64\n",
            "time                  154235 non-null float64\n",
            "driver_tip            154235 non-null float64\n",
            "mta_tax               154235 non-null float64\n",
            "distance              154235 non-null float64\n",
            "num_passengers        154235 non-null float64\n",
            "toll_amount           154235 non-null float64\n",
            "payment_method        154235 non-null float64\n",
            "rate_code             154235 non-null float64\n",
            "stored_flag           154235 non-null int64\n",
            "extra_charges         154235 non-null float64\n",
            "improvement_charge    154235 non-null float64\n",
            "dtypes: float64(11), int64(2)\n",
            "memory usage: 15.3 MB\n"
          ],
          "name": "stdout"
        }
      ]
    },
    {
      "cell_type": "code",
      "metadata": {
        "id": "xqrOIaNWyDXW",
        "colab_type": "code",
        "colab": {}
      },
      "source": [
        "d1=xt['mta+AF8-tax']+xt['toll+AF8-amount']+xt['extra+AF8-charges']+xt['improvement+AF8-charge']"
      ],
      "execution_count": 0,
      "outputs": []
    },
    {
      "cell_type": "code",
      "metadata": {
        "id": "mTLKdFr1ylEo",
        "colab_type": "code",
        "colab": {
          "base_uri": "https://localhost:8080/",
          "height": 123
        },
        "outputId": "a038ef72-8143-4cad-dc06-6d3914f5b936"
      },
      "source": [
        "d2=d1.div(4)\n",
        "d2.head()"
      ],
      "execution_count": 112,
      "outputs": [
        {
          "output_type": "execute_result",
          "data": {
            "text/plain": [
              "0    0.45\n",
              "1    0.45\n",
              "2    0.20\n",
              "3    0.20\n",
              "4    0.20\n",
              "dtype: float64"
            ]
          },
          "metadata": {
            "tags": []
          },
          "execution_count": 112
        }
      ]
    },
    {
      "cell_type": "code",
      "metadata": {
        "id": "iBkADGAw2N62",
        "colab_type": "code",
        "colab": {}
      },
      "source": [
        "xt=xt.drop('mta+AF8-tax',axis=1)"
      ],
      "execution_count": 0,
      "outputs": []
    },
    {
      "cell_type": "code",
      "metadata": {
        "id": "qK9zqycb2OYd",
        "colab_type": "code",
        "colab": {}
      },
      "source": [
        "xt=xt.drop('toll+AF8-amount',axis=1)"
      ],
      "execution_count": 0,
      "outputs": []
    },
    {
      "cell_type": "code",
      "metadata": {
        "id": "YDy2anVJ2O7U",
        "colab_type": "code",
        "colab": {}
      },
      "source": [
        "xt=xt.drop('extra+AF8-charges',axis=1)"
      ],
      "execution_count": 0,
      "outputs": []
    },
    {
      "cell_type": "code",
      "metadata": {
        "id": "a51EmDmu2rDU",
        "colab_type": "code",
        "colab": {}
      },
      "source": [
        "xt=xt.drop('improvement+AF8-charge',axis=1)"
      ],
      "execution_count": 0,
      "outputs": []
    },
    {
      "cell_type": "code",
      "metadata": {
        "id": "J-IZ0m8Ay1in",
        "colab_type": "code",
        "colab": {}
      },
      "source": [
        "xt.insert(2,'charges',d2)"
      ],
      "execution_count": 0,
      "outputs": []
    },
    {
      "cell_type": "code",
      "metadata": {
        "id": "1S9vFuw-zOr0",
        "colab_type": "code",
        "colab": {}
      },
      "source": [
        "d3=test['mta_tax']+test['toll_amount']+test['extra_charges']+test['improvement_charge']"
      ],
      "execution_count": 0,
      "outputs": []
    },
    {
      "cell_type": "code",
      "metadata": {
        "id": "EEGsmrrFzPKH",
        "colab_type": "code",
        "colab": {}
      },
      "source": [
        "d3=d3.div(4)"
      ],
      "execution_count": 0,
      "outputs": []
    },
    {
      "cell_type": "code",
      "metadata": {
        "id": "UqOzWLxR2ArQ",
        "colab_type": "code",
        "colab": {}
      },
      "source": [
        "test=test.drop('mta_tax',axis=1)"
      ],
      "execution_count": 0,
      "outputs": []
    },
    {
      "cell_type": "code",
      "metadata": {
        "id": "gqZ6UhVS2BB5",
        "colab_type": "code",
        "colab": {}
      },
      "source": [
        "test=test.drop('toll_amount',axis=1)"
      ],
      "execution_count": 0,
      "outputs": []
    },
    {
      "cell_type": "code",
      "metadata": {
        "id": "ZL5agJff2Be3",
        "colab_type": "code",
        "colab": {}
      },
      "source": [
        "test=test.drop('extra_charges',axis=1)"
      ],
      "execution_count": 0,
      "outputs": []
    },
    {
      "cell_type": "code",
      "metadata": {
        "id": "dFckkjz62B_S",
        "colab_type": "code",
        "colab": {}
      },
      "source": [
        "test=test.drop('improvement_charge',axis=1)"
      ],
      "execution_count": 0,
      "outputs": []
    },
    {
      "cell_type": "code",
      "metadata": {
        "id": "c7pcUAQZzPvR",
        "colab_type": "code",
        "colab": {}
      },
      "source": [
        "test.insert(2,'charges',d3)"
      ],
      "execution_count": 0,
      "outputs": []
    },
    {
      "cell_type": "code",
      "metadata": {
        "id": "3mZPjq1WtqKT",
        "colab_type": "code",
        "colab": {
          "base_uri": "https://localhost:8080/",
          "height": 34
        },
        "outputId": "6cf21be3-e4d0-44f1-b8f2-e16cdbe4092c"
      },
      "source": [
        "df['mta+AF8-tax'].nunique()"
      ],
      "execution_count": 98,
      "outputs": [
        {
          "output_type": "execute_result",
          "data": {
            "text/plain": [
              "3"
            ]
          },
          "metadata": {
            "tags": []
          },
          "execution_count": 98
        }
      ]
    },
    {
      "cell_type": "code",
      "metadata": {
        "id": "HJivGCEKt3Jb",
        "colab_type": "code",
        "colab": {
          "base_uri": "https://localhost:8080/",
          "height": 34
        },
        "outputId": "06b864b8-32fc-49bd-b0e6-b128efbfba22"
      },
      "source": [
        "df['rate+AF8-code'].nunique()"
      ],
      "execution_count": 99,
      "outputs": [
        {
          "output_type": "execute_result",
          "data": {
            "text/plain": [
              "7"
            ]
          },
          "metadata": {
            "tags": []
          },
          "execution_count": 99
        }
      ]
    },
    {
      "cell_type": "code",
      "metadata": {
        "id": "88HP_7xwuZR6",
        "colab_type": "code",
        "colab": {
          "base_uri": "https://localhost:8080/",
          "height": 34
        },
        "outputId": "fd523005-2ccb-4d28-dab9-cbb209ac2bf3"
      },
      "source": [
        "df['extra+AF8-charges'].nunique()"
      ],
      "execution_count": 101,
      "outputs": [
        {
          "output_type": "execute_result",
          "data": {
            "text/plain": [
              "15"
            ]
          },
          "metadata": {
            "tags": []
          },
          "execution_count": 101
        }
      ]
    },
    {
      "cell_type": "code",
      "metadata": {
        "id": "t8s5d_7Euiye",
        "colab_type": "code",
        "colab": {
          "base_uri": "https://localhost:8080/",
          "height": 34
        },
        "outputId": "e09b0ba6-7927-4609-96f6-44b3dd99087e"
      },
      "source": [
        "df['improvement+AF8-charge'].nunique()"
      ],
      "execution_count": 102,
      "outputs": [
        {
          "output_type": "execute_result",
          "data": {
            "text/plain": [
              "3"
            ]
          },
          "metadata": {
            "tags": []
          },
          "execution_count": 102
        }
      ]
    },
    {
      "cell_type": "markdown",
      "metadata": {
        "id": "-rewY9-iqjIl",
        "colab_type": "text"
      },
      "source": [
        "# Data Visualisation to find relation between various columns"
      ]
    },
    {
      "cell_type": "markdown",
      "metadata": {
        "id": "trywfwUrq9jq",
        "colab_type": "text"
      },
      "source": [
        "For this we use\n",
        "GRAPHS"
      ]
    },
    {
      "cell_type": "code",
      "metadata": {
        "id": "5wKQFaugrEHB",
        "colab_type": "code",
        "colab": {}
      },
      "source": [
        "import seaborn as sns"
      ],
      "execution_count": 0,
      "outputs": []
    },
    {
      "cell_type": "code",
      "metadata": {
        "id": "sbKZf5U5rEur",
        "colab_type": "code",
        "colab": {}
      },
      "source": [
        "import matplotlib.pyplot as plt\n",
        "%matplotlib inline"
      ],
      "execution_count": 0,
      "outputs": []
    },
    {
      "cell_type": "markdown",
      "metadata": {
        "id": "a8xduwnxs09t",
        "colab_type": "text"
      },
      "source": [
        "## 1 Scatterplot"
      ]
    },
    {
      "cell_type": "code",
      "metadata": {
        "id": "KoK_2pjnrFKN",
        "colab_type": "code",
        "colab": {}
      },
      "source": [
        "X=df['payment+AF8-method'].astype(str)"
      ],
      "execution_count": 0,
      "outputs": []
    },
    {
      "cell_type": "code",
      "metadata": {
        "id": "TZ_hPGKbrECu",
        "colab_type": "code",
        "colab": {}
      },
      "source": [
        "Y=df['rate+AF8-code'].astype(str)"
      ],
      "execution_count": 0,
      "outputs": []
    },
    {
      "cell_type": "code",
      "metadata": {
        "id": "YWgpUltErD-d",
        "colab_type": "code",
        "outputId": "ccee4d55-0e3a-4f84-f4ef-8d148696ed15",
        "colab": {
          "base_uri": "https://localhost:8080/",
          "height": 301
        }
      },
      "source": [
        "sns.scatterplot(X[:10000],Y[:10000])"
      ],
      "execution_count": 55,
      "outputs": [
        {
          "output_type": "execute_result",
          "data": {
            "text/plain": [
              "<matplotlib.axes._subplots.AxesSubplot at 0x7fa93f9f1588>"
            ]
          },
          "metadata": {
            "tags": []
          },
          "execution_count": 55
        },
        {
          "output_type": "display_data",
          "data": {
            "image/png": "[encoded data removed]",
            "text/plain": [
              "<Figure size 432x288 with 1 Axes>"
            ]
          },
          "metadata": {
            "tags": []
          }
        }
      ]
    },
    {
      "cell_type": "code",
      "metadata": {
        "id": "e22o5fMdrD6V",
        "colab_type": "code",
        "colab": {}
      },
      "source": [
        "X=df['toll+AF8-amount']"
      ],
      "execution_count": 0,
      "outputs": []
    },
    {
      "cell_type": "code",
      "metadata": {
        "id": "LswiC7AzrD2I",
        "colab_type": "code",
        "colab": {}
      },
      "source": [
        "Y=df['pickup+AF8-loc']"
      ],
      "execution_count": 0,
      "outputs": []
    },
    {
      "cell_type": "code",
      "metadata": {
        "id": "_sIk1jdosdz8",
        "colab_type": "code",
        "outputId": "d0df1cc5-abcc-496a-c2c1-5dfbb0f404bc",
        "colab": {
          "base_uri": "https://localhost:8080/",
          "height": 301
        }
      },
      "source": [
        "sns.scatterplot(X[:10000],Y[:10000])"
      ],
      "execution_count": 58,
      "outputs": [
        {
          "output_type": "execute_result",
          "data": {
            "text/plain": [
              "<matplotlib.axes._subplots.AxesSubplot at 0x7fa9432b22e8>"
            ]
          },
          "metadata": {
            "tags": []
          },
          "execution_count": 58
        },
        {
          "output_type": "display_data",
          "data": {
            "image/png": "[encoded data removed]",
            "text/plain": [
              "<Figure size 432x288 with 1 Axes>"
            ]
          },
          "metadata": {
            "tags": []
          }
        }
      ]
    },
    {
      "cell_type": "code",
      "metadata": {
        "id": "L6GmHNQ_uynK",
        "colab_type": "code",
        "colab": {}
      },
      "source": [
        "X=df['loc']"
      ],
      "execution_count": 0,
      "outputs": []
    },
    {
      "cell_type": "code",
      "metadata": {
        "id": "Zy78f8R-vINB",
        "colab_type": "code",
        "colab": {}
      },
      "source": [
        "Y=df['distance']"
      ],
      "execution_count": 0,
      "outputs": []
    },
    {
      "cell_type": "code",
      "metadata": {
        "id": "h614RTkXvR7c",
        "colab_type": "code",
        "colab": {
          "base_uri": "https://localhost:8080/",
          "height": 301
        },
        "outputId": "5bbf800a-fc69-4529-f161-a49d49e44864"
      },
      "source": [
        "sns.scatterplot(X[:10000],Y[:10000])"
      ],
      "execution_count": 146,
      "outputs": [
        {
          "output_type": "execute_result",
          "data": {
            "text/plain": [
              "<matplotlib.axes._subplots.AxesSubplot at 0x7fe6d2c2b9e8>"
            ]
          },
          "metadata": {
            "tags": []
          },
          "execution_count": 146
        },
        {
          "output_type": "display_data",
          "data": {
            "image/png": "[encoded data removed]",
            "text/plain": [
              "<Figure size 432x288 with 1 Axes>"
            ]
          },
          "metadata": {
            "tags": []
          }
        }
      ]
    },
    {
      "cell_type": "markdown",
      "metadata": {
        "id": "WXtpILNctSFN",
        "colab_type": "text"
      },
      "source": [
        "## 2 Histograms"
      ]
    },
    {
      "cell_type": "markdown",
      "metadata": {
        "id": "Qp3EndlctU2T",
        "colab_type": "text"
      },
      "source": [
        "Histograms are drawn to observe whether the given dataset is uniform or not\n",
        "\n",
        "If we find any feature as completely uniform we will drop that column\n",
        "\n"
      ]
    },
    {
      "cell_type": "code",
      "metadata": {
        "id": "nxcL1xbHtXNl",
        "colab_type": "code",
        "outputId": "9e9c8ecf-a946-4ad3-dd14-d0c15e5d6ff6",
        "colab": {
          "base_uri": "https://localhost:8080/",
          "height": 934
        }
      },
      "source": [
        "df.hist(figsize=(16,16))\n",
        "plt.show()"
      ],
      "execution_count": 59,
      "outputs": [
        {
          "output_type": "display_data",
          "data": {
            "image/png": "[encoded data removed]",
            "text/plain": [
              "<Figure size 1152x1152 with 6 Axes>"
            ]
          },
          "metadata": {
            "tags": []
          }
        }
      ]
    },
    {
      "cell_type": "markdown",
      "metadata": {
        "id": "GD3ALkOuudKD",
        "colab_type": "text"
      },
      "source": [
        "## 3. HeatMap\n",
        "\n",
        "Heatmap is used to find existing corelation among different columns, using different colurs"
      ]
    },
    {
      "cell_type": "code",
      "metadata": {
        "id": "4_wZYzflvSU0",
        "colab_type": "code",
        "outputId": "5000498d-e2c5-4034-a498-ebf278264ac9",
        "colab": {
          "base_uri": "https://localhost:8080/",
          "height": 964
        }
      },
      "source": [
        "from matplotlib.colors import ListedColormap\n",
        "plt.figure(figsize=(16,16))\n",
        "corr=df.corr()\n",
        "sns.set(style='ticks',color_codes=True)\n",
        "sns.heatmap(corr,linewidths=0.3,square=True,linecolor='white',annot=True)\n",
        "plt.show()"
      ],
      "execution_count": 60,
      "outputs": [
        {
          "output_type": "display_data",
          "data": {
            "image/png": "[encoded data removed]",
            "text/plain": [
              "<Figure size 1152x1152 with 2 Axes>"
            ]
          },
          "metadata": {
            "tags": []
          }
        }
      ]
    },
    {
      "cell_type": "markdown",
      "metadata": {
        "id": "kaTZhHwtvZZl",
        "colab_type": "text"
      },
      "source": [
        "From all these graph we can make out that there is no significant relation between different columns of dataset so no changes are made"
      ]
    },
    {
      "cell_type": "markdown",
      "metadata": {
        "id": "GV8_86rowpA1",
        "colab_type": "text"
      },
      "source": [
        "## Next Step\n",
        "\n",
        "### Now, we use labelencoder to assign int32 values to object type"
      ]
    },
    {
      "cell_type": "code",
      "metadata": {
        "id": "U5bBnoGvmBdc",
        "colab_type": "code",
        "colab": {}
      },
      "source": [
        "from sklearn.preprocessing import LabelEncoder"
      ],
      "execution_count": 0,
      "outputs": []
    },
    {
      "cell_type": "code",
      "metadata": {
        "id": "CVo5qffRqc33",
        "colab_type": "code",
        "colab": {}
      },
      "source": [
        "       le = LabelEncoder()        "
      ],
      "execution_count": 0,
      "outputs": []
    },
    {
      "cell_type": "code",
      "metadata": {
        "id": "NuMhyomtXOC8",
        "colab_type": "code",
        "colab": {}
      },
      "source": [
        "xt['stored+AF8-flag'] = le.fit_transform(xt['stored+AF8-flag'].astype(str))"
      ],
      "execution_count": 0,
      "outputs": []
    },
    {
      "cell_type": "code",
      "metadata": {
        "id": "Cj1c5sGD1mal",
        "colab_type": "code",
        "colab": {
          "base_uri": "https://localhost:8080/",
          "height": 301
        },
        "outputId": "9a4e04c7-9325-4c7d-e0a3-646e32e4af89"
      },
      "source": [
        "xt.info()"
      ],
      "execution_count": 129,
      "outputs": [
        {
          "output_type": "stream",
          "text": [
            "<class 'pandas.core.frame.DataFrame'>\n",
            "Int64Index: 1048052 entries, 0 to 1048574\n",
            "Data columns (total 11 columns):\n",
            "vendor+AF8-id         1048052 non-null int64\n",
            "loc                   1048052 non-null float64\n",
            "charges               1048052 non-null float64\n",
            "time                  1048052 non-null float64\n",
            "driver+AF8-tip        1048052 non-null float64\n",
            "distance              1048052 non-null float64\n",
            "num+AF8-passengers    1048052 non-null float64\n",
            "payment+AF8-method    1048052 non-null float64\n",
            "rate+AF8-code         1048052 non-null float64\n",
            "stored+AF8-flag       1048052 non-null int64\n",
            "total+AF8-amount      1048052 non-null float64\n",
            "dtypes: float64(9), int64(2)\n",
            "memory usage: 96.0 MB\n"
          ],
          "name": "stdout"
        }
      ]
    },
    {
      "cell_type": "markdown",
      "metadata": {
        "id": "hB8F1Apgw1zb",
        "colab_type": "text"
      },
      "source": [
        "## Training\n",
        "\n",
        "\n",
        "First step is to divide given training data in two parts training and testing\n",
        "\n",
        "\n",
        "for this we use train_test_split of sklearn library"
      ]
    },
    {
      "cell_type": "code",
      "metadata": {
        "id": "OYedb-6mqpDl",
        "colab_type": "code",
        "colab": {}
      },
      "source": [
        "from sklearn.model_selection import train_test_split"
      ],
      "execution_count": 0,
      "outputs": []
    },
    {
      "cell_type": "code",
      "metadata": {
        "id": "bEPGBb0fq8I9",
        "colab_type": "code",
        "outputId": "7e6ff439-333e-4232-e535-31729f63ebca",
        "colab": {
          "base_uri": "https://localhost:8080/",
          "height": 197
        }
      },
      "source": [
        "fea=xt.iloc[:,:10]\n",
        "fea.head()"
      ],
      "execution_count": 130,
      "outputs": [
        {
          "output_type": "execute_result",
          "data": {
            "text/html": [
              "<div>\n",
              "<style scoped>\n",
              "    .dataframe tbody tr th:only-of-type {\n",
              "        vertical-align: middle;\n",
              "    }\n",
              "\n",
              "    .dataframe tbody tr th {\n",
              "        vertical-align: top;\n",
              "    }\n",
              "\n",
              "    .dataframe thead th {\n",
              "        text-align: right;\n",
              "    }\n",
              "</style>\n",
              "<table border=\"1\" class=\"dataframe\">\n",
              "  <thead>\n",
              "    <tr style=\"text-align: right;\">\n",
              "      <th></th>\n",
              "      <th>vendor+AF8-id</th>\n",
              "      <th>loc</th>\n",
              "      <th>charges</th>\n",
              "      <th>time</th>\n",
              "      <th>driver+AF8-tip</th>\n",
              "      <th>distance</th>\n",
              "      <th>num+AF8-passengers</th>\n",
              "      <th>payment+AF8-method</th>\n",
              "      <th>rate+AF8-code</th>\n",
              "      <th>stored+AF8-flag</th>\n",
              "    </tr>\n",
              "  </thead>\n",
              "  <tbody>\n",
              "    <tr>\n",
              "      <th>0</th>\n",
              "      <td>1</td>\n",
              "      <td>63.0</td>\n",
              "      <td>0.45</td>\n",
              "      <td>0.089167</td>\n",
              "      <td>1.83</td>\n",
              "      <td>0.70</td>\n",
              "      <td>1.0</td>\n",
              "      <td>1.0</td>\n",
              "      <td>1.0</td>\n",
              "      <td>0</td>\n",
              "    </tr>\n",
              "    <tr>\n",
              "      <th>1</th>\n",
              "      <td>2</td>\n",
              "      <td>92.0</td>\n",
              "      <td>0.45</td>\n",
              "      <td>0.275000</td>\n",
              "      <td>3.56</td>\n",
              "      <td>4.64</td>\n",
              "      <td>1.0</td>\n",
              "      <td>1.0</td>\n",
              "      <td>1.0</td>\n",
              "      <td>0</td>\n",
              "    </tr>\n",
              "    <tr>\n",
              "      <th>2</th>\n",
              "      <td>2</td>\n",
              "      <td>22.0</td>\n",
              "      <td>0.20</td>\n",
              "      <td>0.104722</td>\n",
              "      <td>1.50</td>\n",
              "      <td>1.29</td>\n",
              "      <td>2.0</td>\n",
              "      <td>1.0</td>\n",
              "      <td>1.0</td>\n",
              "      <td>0</td>\n",
              "    </tr>\n",
              "    <tr>\n",
              "      <th>3</th>\n",
              "      <td>2</td>\n",
              "      <td>92.0</td>\n",
              "      <td>0.20</td>\n",
              "      <td>0.268889</td>\n",
              "      <td>1.50</td>\n",
              "      <td>2.74</td>\n",
              "      <td>1.0</td>\n",
              "      <td>1.0</td>\n",
              "      <td>1.0</td>\n",
              "      <td>0</td>\n",
              "    </tr>\n",
              "    <tr>\n",
              "      <th>4</th>\n",
              "      <td>2</td>\n",
              "      <td>0.0</td>\n",
              "      <td>0.20</td>\n",
              "      <td>0.045000</td>\n",
              "      <td>0.00</td>\n",
              "      <td>0.45</td>\n",
              "      <td>6.0</td>\n",
              "      <td>2.0</td>\n",
              "      <td>1.0</td>\n",
              "      <td>0</td>\n",
              "    </tr>\n",
              "  </tbody>\n",
              "</table>\n",
              "</div>"
            ],
            "text/plain": [
              "   vendor+AF8-id   loc  ...  rate+AF8-code  stored+AF8-flag\n",
              "0              1  63.0  ...            1.0                0\n",
              "1              2  92.0  ...            1.0                0\n",
              "2              2  22.0  ...            1.0                0\n",
              "3              2  92.0  ...            1.0                0\n",
              "4              2   0.0  ...            1.0                0\n",
              "\n",
              "[5 rows x 10 columns]"
            ]
          },
          "metadata": {
            "tags": []
          },
          "execution_count": 130
        }
      ]
    },
    {
      "cell_type": "code",
      "metadata": {
        "id": "-tn4oi-QrG-U",
        "colab_type": "code",
        "outputId": "29ef1a74-68a7-427c-98cf-ae6f72fb6c94",
        "colab": {
          "base_uri": "https://localhost:8080/",
          "height": 197
        }
      },
      "source": [
        "res=xt.iloc[:,10:]\n",
        "res.head()"
      ],
      "execution_count": 131,
      "outputs": [
        {
          "output_type": "execute_result",
          "data": {
            "text/html": [
              "<div>\n",
              "<style scoped>\n",
              "    .dataframe tbody tr th:only-of-type {\n",
              "        vertical-align: middle;\n",
              "    }\n",
              "\n",
              "    .dataframe tbody tr th {\n",
              "        vertical-align: top;\n",
              "    }\n",
              "\n",
              "    .dataframe thead th {\n",
              "        text-align: right;\n",
              "    }\n",
              "</style>\n",
              "<table border=\"1\" class=\"dataframe\">\n",
              "  <thead>\n",
              "    <tr style=\"text-align: right;\">\n",
              "      <th></th>\n",
              "      <th>total+AF8-amount</th>\n",
              "    </tr>\n",
              "  </thead>\n",
              "  <tbody>\n",
              "    <tr>\n",
              "      <th>0</th>\n",
              "      <td>9.13</td>\n",
              "    </tr>\n",
              "    <tr>\n",
              "      <th>1</th>\n",
              "      <td>21.36</td>\n",
              "    </tr>\n",
              "    <tr>\n",
              "      <th>2</th>\n",
              "      <td>8.80</td>\n",
              "    </tr>\n",
              "    <tr>\n",
              "      <th>3</th>\n",
              "      <td>14.80</td>\n",
              "    </tr>\n",
              "    <tr>\n",
              "      <th>4</th>\n",
              "      <td>4.80</td>\n",
              "    </tr>\n",
              "  </tbody>\n",
              "</table>\n",
              "</div>"
            ],
            "text/plain": [
              "   total+AF8-amount\n",
              "0              9.13\n",
              "1             21.36\n",
              "2              8.80\n",
              "3             14.80\n",
              "4              4.80"
            ]
          },
          "metadata": {
            "tags": []
          },
          "execution_count": 131
        }
      ]
    },
    {
      "cell_type": "code",
      "metadata": {
        "id": "GqNu-juqopHh",
        "colab_type": "code",
        "colab": {}
      },
      "source": [
        "X_train,X_test,y_train,y_test = train_test_split(fea,res,test_size=0.3,random_state=0)"
      ],
      "execution_count": 0,
      "outputs": []
    },
    {
      "cell_type": "markdown",
      "metadata": {
        "id": "0jUSs2oXzbAq",
        "colab_type": "text"
      },
      "source": [
        "# Linear Regression"
      ]
    },
    {
      "cell_type": "code",
      "metadata": {
        "id": "_kT29vdQzf43",
        "colab_type": "code",
        "colab": {}
      },
      "source": [
        "from sklearn.linear_model import LinearRegression"
      ],
      "execution_count": 0,
      "outputs": []
    },
    {
      "cell_type": "code",
      "metadata": {
        "id": "ZnacyUS2z2yu",
        "colab_type": "code",
        "colab": {}
      },
      "source": [
        "model1=LinearRegression()"
      ],
      "execution_count": 0,
      "outputs": []
    },
    {
      "cell_type": "code",
      "metadata": {
        "id": "SDHEyjH2z7lO",
        "colab_type": "code",
        "outputId": "711340b3-3215-4c7b-ef3b-e5507f9de4f5",
        "colab": {
          "base_uri": "https://localhost:8080/",
          "height": 34
        }
      },
      "source": [
        "model1.fit(X_train,y_train)"
      ],
      "execution_count": 0,
      "outputs": [
        {
          "output_type": "execute_result",
          "data": {
            "text/plain": [
              "LinearRegression(copy_X=True, fit_intercept=True, n_jobs=None, normalize=False)"
            ]
          },
          "metadata": {
            "tags": []
          },
          "execution_count": 115
        }
      ]
    },
    {
      "cell_type": "code",
      "metadata": {
        "id": "qNJzocRm0CYX",
        "colab_type": "code",
        "colab": {}
      },
      "source": [
        "pred1=model1.predict(X_test)"
      ],
      "execution_count": 0,
      "outputs": []
    },
    {
      "cell_type": "code",
      "metadata": {
        "id": "rwS4NtOg0JsC",
        "colab_type": "code",
        "colab": {}
      },
      "source": [
        "from sklearn.metrics import mean_squared_error"
      ],
      "execution_count": 0,
      "outputs": []
    },
    {
      "cell_type": "code",
      "metadata": {
        "id": "ZbbCnvXj0Tk_",
        "colab_type": "code",
        "outputId": "827a18b2-f746-40eb-8971-35ef6f775f4c",
        "colab": {
          "base_uri": "https://localhost:8080/",
          "height": 34
        }
      },
      "source": [
        "mean_squared_error(pred1,y_test)"
      ],
      "execution_count": 0,
      "outputs": [
        {
          "output_type": "execute_result",
          "data": {
            "text/plain": [
              "44.08514352051672"
            ]
          },
          "metadata": {
            "tags": []
          },
          "execution_count": 118
        }
      ]
    },
    {
      "cell_type": "code",
      "metadata": {
        "id": "Ce-ixKRQ0l3I",
        "colab_type": "code",
        "colab": {}
      },
      "source": [
        "from sklearn.metrics import mean_absolute_error"
      ],
      "execution_count": 0,
      "outputs": []
    },
    {
      "cell_type": "code",
      "metadata": {
        "id": "cd76kijv0v8D",
        "colab_type": "code",
        "outputId": "42aa3ad4-44b2-472e-cc70-8e46c27707cb",
        "colab": {
          "base_uri": "https://localhost:8080/",
          "height": 34
        }
      },
      "source": [
        "mean_absolute_error(pred1,y_test)"
      ],
      "execution_count": 0,
      "outputs": [
        {
          "output_type": "execute_result",
          "data": {
            "text/plain": [
              "1.99139702888882"
            ]
          },
          "metadata": {
            "tags": []
          },
          "execution_count": 120
        }
      ]
    },
    {
      "cell_type": "markdown",
      "metadata": {
        "id": "r-nmqezS1gMO",
        "colab_type": "text"
      },
      "source": [
        "# RandomForestRegressor"
      ]
    },
    {
      "cell_type": "code",
      "metadata": {
        "id": "cPb1Q6kI1pKi",
        "colab_type": "code",
        "colab": {}
      },
      "source": [
        "from sklearn.ensemble import RandomForestRegressor "
      ],
      "execution_count": 0,
      "outputs": []
    },
    {
      "cell_type": "code",
      "metadata": {
        "id": "mDx0HhMc10F3",
        "colab_type": "code",
        "colab": {}
      },
      "source": [
        "model2=RandomForestRegressor(n_estimators=150,random_state=0,max_depth=8)"
      ],
      "execution_count": 0,
      "outputs": []
    },
    {
      "cell_type": "code",
      "metadata": {
        "id": "_7IwnBaP2BSB",
        "colab_type": "code",
        "outputId": "fd308950-8dd9-4b72-ad89-81f831efba5e",
        "colab": {
          "base_uri": "https://localhost:8080/",
          "height": 196
        }
      },
      "source": [
        "model2.fit(X_train,y_train)"
      ],
      "execution_count": 134,
      "outputs": [
        {
          "output_type": "stream",
          "text": [
            "/usr/local/lib/python3.6/dist-packages/ipykernel_launcher.py:1: DataConversionWarning: A column-vector y was passed when a 1d array was expected. Please change the shape of y to (n_samples,), for example using ravel().\n",
            "  \"\"\"Entry point for launching an IPython kernel.\n"
          ],
          "name": "stderr"
        },
        {
          "output_type": "execute_result",
          "data": {
            "text/plain": [
              "RandomForestRegressor(bootstrap=True, criterion='mse', max_depth=8,\n",
              "                      max_features='auto', max_leaf_nodes=None,\n",
              "                      min_impurity_decrease=0.0, min_impurity_split=None,\n",
              "                      min_samples_leaf=1, min_samples_split=2,\n",
              "                      min_weight_fraction_leaf=0.0, n_estimators=150,\n",
              "                      n_jobs=None, oob_score=False, random_state=0, verbose=0,\n",
              "                      warm_start=False)"
            ]
          },
          "metadata": {
            "tags": []
          },
          "execution_count": 134
        }
      ]
    },
    {
      "cell_type": "code",
      "metadata": {
        "id": "PqCsgl2E2TQc",
        "colab_type": "code",
        "colab": {}
      },
      "source": [
        "pred2=model2.predict(X_test)"
      ],
      "execution_count": 0,
      "outputs": []
    },
    {
      "cell_type": "code",
      "metadata": {
        "id": "F9vvy16bGLfT",
        "colab_type": "code",
        "colab": {}
      },
      "source": [
        "from sklearn.metrics import mean_squared_error"
      ],
      "execution_count": 0,
      "outputs": []
    },
    {
      "cell_type": "code",
      "metadata": {
        "id": "8VU_3s2o3CaG",
        "colab_type": "code",
        "outputId": "1591673b-22ad-4939-f2eb-a32c4abaea65",
        "colab": {
          "base_uri": "https://localhost:8080/",
          "height": 34
        }
      },
      "source": [
        "mean_squared_error(pred2,y_test)"
      ],
      "execution_count": 136,
      "outputs": [
        {
          "output_type": "execute_result",
          "data": {
            "text/plain": [
              "29.675429596668902"
            ]
          },
          "metadata": {
            "tags": []
          },
          "execution_count": 136
        }
      ]
    },
    {
      "cell_type": "code",
      "metadata": {
        "id": "6vZKffFqGmH0",
        "colab_type": "code",
        "colab": {}
      },
      "source": [
        "from sklearn.metrics import mean_absolute_error"
      ],
      "execution_count": 0,
      "outputs": []
    },
    {
      "cell_type": "code",
      "metadata": {
        "id": "Lc78BiTw3JUN",
        "colab_type": "code",
        "outputId": "a17e4096-9805-4ea3-e3b4-2a6d0d99d012",
        "colab": {
          "base_uri": "https://localhost:8080/",
          "height": 34
        }
      },
      "source": [
        "mean_absolute_error(pred2,y_test)"
      ],
      "execution_count": 108,
      "outputs": [
        {
          "output_type": "execute_result",
          "data": {
            "text/plain": [
              "0.9463185629844677"
            ]
          },
          "metadata": {
            "tags": []
          },
          "execution_count": 108
        }
      ]
    },
    {
      "cell_type": "markdown",
      "metadata": {
        "id": "oUzSGDGL3PT_",
        "colab_type": "text"
      },
      "source": [
        "RandomForestRegressor with Principle Component Analysis"
      ]
    },
    {
      "cell_type": "code",
      "metadata": {
        "id": "CjoEsw-voy6l",
        "colab_type": "code",
        "colab": {}
      },
      "source": [
        "from sklearn.pipeline import Pipeline"
      ],
      "execution_count": 0,
      "outputs": []
    },
    {
      "cell_type": "code",
      "metadata": {
        "id": "NXgMk-_3ozTY",
        "colab_type": "code",
        "colab": {}
      },
      "source": [
        "from sklearn.decomposition import PCA"
      ],
      "execution_count": 0,
      "outputs": []
    },
    {
      "cell_type": "code",
      "metadata": {
        "id": "ilo0Nl-Vo_Di",
        "colab_type": "code",
        "colab": {}
      },
      "source": [
        "from sklearn.ensemble import RandomForestRegressor"
      ],
      "execution_count": 0,
      "outputs": []
    },
    {
      "cell_type": "code",
      "metadata": {
        "id": "_eKq-xsqGy4C",
        "colab_type": "code",
        "colab": {}
      },
      "source": [
        "from sklearn.preprocessing import StandardScaler"
      ],
      "execution_count": 0,
      "outputs": []
    },
    {
      "cell_type": "code",
      "metadata": {
        "id": "WudUBVBYjCkw",
        "colab_type": "code",
        "colab": {}
      },
      "source": [
        "model3= Pipeline([('scl',StandardScaler()),('pca',PCA(n_components=8)),('clf',RandomForestRegressor(n_estimators=250))])"
      ],
      "execution_count": 0,
      "outputs": []
    },
    {
      "cell_type": "code",
      "metadata": {
        "id": "FH3MzIUO3nEd",
        "colab_type": "code",
        "outputId": "e469d0aa-9a12-441b-8482-1d8e85719744",
        "colab": {
          "base_uri": "https://localhost:8080/",
          "height": 394
        }
      },
      "source": [
        "model3.fit(X_train,y_train)"
      ],
      "execution_count": 0,
      "outputs": [
        {
          "output_type": "stream",
          "text": [
            "/usr/local/lib/python3.6/dist-packages/sklearn/pipeline.py:356: DataConversionWarning: A column-vector y was passed when a 1d array was expected. Please change the shape of y to (n_samples,), for example using ravel().\n",
            "  self._final_estimator.fit(Xt, y, **fit_params)\n"
          ],
          "name": "stderr"
        },
        {
          "output_type": "execute_result",
          "data": {
            "text/plain": [
              "Pipeline(memory=None,\n",
              "         steps=[('scl',\n",
              "                 StandardScaler(copy=True, with_mean=True, with_std=True)),\n",
              "                ('pca',\n",
              "                 PCA(copy=True, iterated_power='auto', n_components=8,\n",
              "                     random_state=None, svd_solver='auto', tol=0.0,\n",
              "                     whiten=False)),\n",
              "                ('clf',\n",
              "                 RandomForestRegressor(bootstrap=True, criterion='mse',\n",
              "                                       max_depth=None, max_features='auto',\n",
              "                                       max_leaf_nodes=None,\n",
              "                                       min_impurity_decrease=0.0,\n",
              "                                       min_impurity_split=None,\n",
              "                                       min_samples_leaf=1, min_samples_split=2,\n",
              "                                       min_weight_fraction_leaf=0.0,\n",
              "                                       n_estimators=250, n_jobs=None,\n",
              "                                       oob_score=False, random_state=None,\n",
              "                                       verbose=0, warm_start=False))],\n",
              "         verbose=False)"
            ]
          },
          "metadata": {
            "tags": []
          },
          "execution_count": 71
        }
      ]
    },
    {
      "cell_type": "code",
      "metadata": {
        "id": "SMvwn5yxpOjK",
        "colab_type": "code",
        "colab": {}
      },
      "source": [
        "pred9=model3.predict(X_test)"
      ],
      "execution_count": 0,
      "outputs": []
    },
    {
      "cell_type": "code",
      "metadata": {
        "id": "PVmffBwspO4V",
        "colab_type": "code",
        "colab": {}
      },
      "source": [
        "from sklearn.metrics import mean_squared_error"
      ],
      "execution_count": 0,
      "outputs": []
    },
    {
      "cell_type": "code",
      "metadata": {
        "id": "OGO0umk97HFq",
        "colab_type": "code",
        "outputId": "d5512b72-a606-421f-bc38-1126f80df1a3",
        "colab": {
          "base_uri": "https://localhost:8080/",
          "height": 34
        }
      },
      "source": [
        "mean_squared_error(pred9,y_test)"
      ],
      "execution_count": 0,
      "outputs": [
        {
          "output_type": "execute_result",
          "data": {
            "text/plain": [
              "38.29471683542265"
            ]
          },
          "metadata": {
            "tags": []
          },
          "execution_count": 74
        }
      ]
    },
    {
      "cell_type": "code",
      "metadata": {
        "id": "cX_p2pZ-HQfU",
        "colab_type": "code",
        "outputId": "a0e96d03-82db-4c81-fc06-b83bf7f20cbe",
        "colab": {
          "base_uri": "https://localhost:8080/",
          "height": 34
        }
      },
      "source": [
        "mean_absolute_error(pred9,y_test)"
      ],
      "execution_count": 0,
      "outputs": [
        {
          "output_type": "execute_result",
          "data": {
            "text/plain": [
              "1.4528989348650359"
            ]
          },
          "metadata": {
            "tags": []
          },
          "execution_count": 75
        }
      ]
    },
    {
      "cell_type": "markdown",
      "metadata": {
        "id": "ZOwb2OHnX7rM",
        "colab_type": "text"
      },
      "source": [
        "# RandomForestRegressor with PCA and n_components=6"
      ]
    },
    {
      "cell_type": "code",
      "metadata": {
        "id": "bfkqJifnYNzG",
        "colab_type": "code",
        "colab": {}
      },
      "source": [
        "model4= Pipeline([('scl',StandardScaler()),('pca',PCA(n_components=6)),('clf',RandomForestRegressor(n_estimators=250))])"
      ],
      "execution_count": 0,
      "outputs": []
    },
    {
      "cell_type": "code",
      "metadata": {
        "id": "5N0_8hgvYOT2",
        "colab_type": "code",
        "outputId": "bad151e2-6a24-4f8b-a43b-1b8807a745ed",
        "colab": {
          "base_uri": "https://localhost:8080/",
          "height": 163
        }
      },
      "source": [
        "model4.fit(X_train,y_train)"
      ],
      "execution_count": 0,
      "outputs": [
        {
          "output_type": "error",
          "ename": "NameError",
          "evalue": "ignored",
          "traceback": [
            "\u001b[0;31m---------------------------------------------------------------------------\u001b[0m",
            "\u001b[0;31mNameError\u001b[0m                                 Traceback (most recent call last)",
            "\u001b[0;32m<ipython-input-1-f01094860f77>\u001b[0m in \u001b[0;36m<module>\u001b[0;34m()\u001b[0m\n\u001b[0;32m----> 1\u001b[0;31m \u001b[0mmodel4\u001b[0m\u001b[0;34m.\u001b[0m\u001b[0mfit\u001b[0m\u001b[0;34m(\u001b[0m\u001b[0mX_train\u001b[0m\u001b[0;34m,\u001b[0m\u001b[0my_train\u001b[0m\u001b[0;34m)\u001b[0m\u001b[0;34m\u001b[0m\u001b[0;34m\u001b[0m\u001b[0m\n\u001b[0m",
            "\u001b[0;31mNameError\u001b[0m: name 'model4' is not defined"
          ]
        }
      ]
    },
    {
      "cell_type": "code",
      "metadata": {
        "id": "JVl2wHOsdjMX",
        "colab_type": "code",
        "colab": {}
      },
      "source": [
        "pred4=model4.predict(X_test)"
      ],
      "execution_count": 0,
      "outputs": []
    },
    {
      "cell_type": "code",
      "metadata": {
        "id": "Lm3qCKOjdSHM",
        "colab_type": "code",
        "colab": {}
      },
      "source": [
        "mean_squared_error(pred4,y_test)"
      ],
      "execution_count": 0,
      "outputs": []
    },
    {
      "cell_type": "code",
      "metadata": {
        "id": "f8Pq6RsfdUn2",
        "colab_type": "code",
        "colab": {}
      },
      "source": [
        "mean_absolute_error(pred4,y_test)"
      ],
      "execution_count": 0,
      "outputs": []
    },
    {
      "cell_type": "markdown",
      "metadata": {
        "id": "vUQ6U4efEZyj",
        "colab_type": "text"
      },
      "source": [
        "### Use LabelEncoder with test file also"
      ]
    },
    {
      "cell_type": "code",
      "metadata": {
        "id": "jjPFetiIcJFh",
        "colab_type": "code",
        "colab": {}
      },
      "source": [
        "test['stored_flag']=le.fit_transform(test['stored_flag'].astype(str))"
      ],
      "execution_count": 0,
      "outputs": []
    },
    {
      "cell_type": "markdown",
      "metadata": {
        "id": "Fk4B4cTdvpyB",
        "colab_type": "text"
      },
      "source": [
        "## prediction of answer using best model(RandomForestRegressor with PCA)"
      ]
    },
    {
      "cell_type": "code",
      "metadata": {
        "id": "-bNlITHZdjH2",
        "colab_type": "code",
        "colab": {}
      },
      "source": [
        "ans=model2.predict(test)"
      ],
      "execution_count": 0,
      "outputs": []
    },
    {
      "cell_type": "code",
      "metadata": {
        "id": "cK7kYIladpoI",
        "colab_type": "code",
        "colab": {}
      },
      "source": [
        "yy=[]"
      ],
      "execution_count": 0,
      "outputs": []
    },
    {
      "cell_type": "code",
      "metadata": {
        "id": "zhRGL4hPdzjT",
        "colab_type": "code",
        "colab": {}
      },
      "source": [
        "for i in range(154235):\n",
        "    yy.append(i)"
      ],
      "execution_count": 0,
      "outputs": []
    },
    {
      "cell_type": "code",
      "metadata": {
        "id": "5M1xgNzad7iV",
        "colab_type": "code",
        "colab": {}
      },
      "source": [
        "predi=pd.DataFrame(ans)\n",
        "predi.rename(columns={0:'total_amount'},inplace=True)\n",
        "predi['ID']=yy\n",
        "predi = predi[['ID','total_amount']]"
      ],
      "execution_count": 0,
      "outputs": []
    },
    {
      "cell_type": "markdown",
      "metadata": {
        "id": "tqYK41brE31w",
        "colab_type": "text"
      },
      "source": [
        "## Store predictions in .csv file"
      ]
    },
    {
      "cell_type": "code",
      "metadata": {
        "id": "T2vAnObMeGFb",
        "colab_type": "code",
        "colab": {}
      },
      "source": [
        "predi.to_csv('res_loc_cha.csv',index=False)"
      ],
      "execution_count": 0,
      "outputs": []
    },
    {
      "cell_type": "code",
      "metadata": {
        "id": "iSGU3cXPeaDf",
        "colab_type": "code",
        "outputId": "c4f89267-27df-4ba4-de4b-fa07e4687403",
        "colab": {
          "base_uri": "https://localhost:8080/",
          "height": 34
        }
      },
      "source": [
        "from google.colab import drive\n",
        "drive.mount('drive')"
      ],
      "execution_count": 142,
      "outputs": [
        {
          "output_type": "stream",
          "text": [
            "Drive already mounted at drive; to attempt to forcibly remount, call drive.mount(\"drive\", force_remount=True).\n"
          ],
          "name": "stdout"
        }
      ]
    },
    {
      "cell_type": "code",
      "metadata": {
        "id": "UGVB0UpphxZ5",
        "colab_type": "code",
        "colab": {}
      },
      "source": [
        "!cp res_loc_cha.csv drive/My\\ Drive/"
      ],
      "execution_count": 0,
      "outputs": []
    },
    {
      "cell_type": "code",
      "metadata": {
        "id": "cjtZnCnAjibL",
        "colab_type": "code",
        "colab": {}
      },
      "source": [
        ""
      ],
      "execution_count": 0,
      "outputs": []
    }
  ]
}